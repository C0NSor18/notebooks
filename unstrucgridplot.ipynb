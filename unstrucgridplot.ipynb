{
 "cells": [
  {
   "cell_type": "code",
   "execution_count": 16,
   "metadata": {
    "collapsed": false
   },
   "outputs": [],
   "source": [
    "import netCDF4\n",
    "import matplotlib.collections\n",
    "import matplotlib.lines\n",
    "import matplotlib.pyplot as plt"
   ]
  },
  {
   "cell_type": "code",
   "execution_count": 17,
   "metadata": {
    "collapsed": false
   },
   "outputs": [],
   "source": [
    "filename = '/Users/fedorbaart/Documents/checkouts/cases_unstruc/e00_unstruc/f02_1D2D/c086_Index4/input/index4b_net.nc'\n",
    "filename = '/Users/baart_f/models/riomagdelena/DFM_OUTPUT_riomagp_q2600/riomagp_q2600_map.nc'"
   ]
  },
  {
   "cell_type": "code",
   "execution_count": 18,
   "metadata": {
    "collapsed": false
   },
   "outputs": [],
   "source": [
    "ds = netCDF4.Dataset(filename)\n",
    "X = ds.variables['NetNode_x'][:]\n",
    "Y = ds.variables['NetNode_y'][:]\n",
    "Z = ds.variables['NetNode_z'][:]\n",
    "netelemnode = ds.variables['NetElemNode'][:]\n",
    "netlink = ds.variables['NetLink'][:]\n",
    "ds.close()"
   ]
  },
  {
   "cell_type": "markdown",
   "metadata": {},
   "source": [
    "This is an example of how to use the elemnode variable to connect the cells. "
   ]
  },
  {
   "cell_type": "code",
   "execution_count": 19,
   "metadata": {
    "collapsed": false
   },
   "outputs": [],
   "source": [
    "# Create split locations\n",
    "if not hasattr(netelemnode, 'mask'):\n",
    "    netelemnode = np.ma.masked_array(netelemnode, mask=False)\n",
    "splitidx = np.cumsum(np.r_[(~netelemnode.mask).sum(1)][:-1])\n",
    "# Convert to 1d filled idx\n",
    "idx = netelemnode[(~netelemnode.mask)]-1\n",
    "xpoly = np.split(X[idx],splitidx) # x vector per poly\n",
    "ypoly = np.split(Y[idx],splitidx)\n",
    "zcell = np.split(Z[idx],splitidx)\n",
    "zcellmean = np.array([z.mean() for z in zcell])\n",
    "polycoords = [np.c_[xy[0],xy[1]] for xy in np.c_[xpoly,ypoly]]\n"
   ]
  },
  {
   "cell_type": "code",
   "execution_count": null,
   "metadata": {
    "collapsed": false
   },
   "outputs": [],
   "source": []
  },
  {
   "cell_type": "code",
   "execution_count": 21,
   "metadata": {
    "collapsed": false
   },
   "outputs": [
    {
     "data": {
      "text/plain": [
       "<matplotlib.lines.Line2D at 0x110938910>"
      ]
     },
     "execution_count": 21,
     "metadata": {},
     "output_type": "execute_result"
    },
    {
     "data": {
      "image/png": "[encoded data removed]",
      "text/plain": [
       "<matplotlib.figure.Figure at 0x110105390>"
      ]
     },
     "metadata": {},
     "output_type": "display_data"
    }
   ],
   "source": [
    "fig, ax = plt.subplots(1,1)\n",
    "# Plot the cells as polygons\n",
    "polys = matplotlib.collections.PolyCollection(polycoords, linewidth=2, edgecolor=(0.5,0.5,0.5), cmap=matplotlib.cm.Accent)\n",
    "# Show the number of elements\n",
    "polys.set_array((~netelemnode.mask).sum(1))\n",
    "ax.add_collection(polys)\n",
    "ax.autoscale()\n",
    "# Add nodes manually so they don't scale... (could just use ax.plot)\n",
    "nodes = matplotlib.lines.Line2D(X, Y, marker='.', linestyle='none', markerfacecolor='black', markeredgecolor='none')\n",
    "ax.add_line(nodes)\n"
   ]
  },
  {
   "cell_type": "markdown",
   "metadata": {},
   "source": [
    "This is an example of how to use the netlink variable to connect the links. "
   ]
  },
  {
   "cell_type": "code",
   "execution_count": 23,
   "metadata": {
    "collapsed": false
   },
   "outputs": [],
   "source": [
    "# dimension n lines, start, stop\n",
    "linecoords = np.concatenate([X[netlink-1][...,np.newaxis], Y[netlink-1][...,np.newaxis]], axis=2)"
   ]
  },
  {
   "cell_type": "code",
   "execution_count": 24,
   "metadata": {
    "collapsed": false
   },
   "outputs": [
    {
     "data": {
      "image/png": "[encoded data removed]",
      "text/plain": [
       "<matplotlib.figure.Figure at 0x110d00a50>"
      ]
     },
     "metadata": {},
     "output_type": "display_data"
    }
   ],
   "source": [
    "fig, ax = plt.subplots(1,1, figsize=(10,6))\n",
    "# Black is the new purple\n",
    "ax.set_axis_bgcolor('black')\n",
    "\n",
    "# Regenerate the polycollection in a different color\n",
    "polys = matplotlib.collections.PolyCollection(polycoords, linewidth=0,cmap=matplotlib.cm.Pastel2)\n",
    "polys.set_array((~netelemnode.mask).sum(1))\n",
    "ax.add_collection(polys)\n",
    "\n",
    "# Now add the lines on top\n",
    "lines = matplotlib.collections.LineCollection(linecoords, linewidth=2, edgecolor=(0.1,0.5,0.8))\n",
    "ax.add_collection(lines)\n",
    "ax.autoscale()"
   ]
  },
  {
   "cell_type": "code",
   "execution_count": null,
   "metadata": {
    "collapsed": true
   },
   "outputs": [],
   "source": []
  }
 ],
 "metadata": {
  "kernelspec": {
   "display_name": "Python 2",
   "language": "python",
   "name": "python2"
  },
  "language_info": {
   "codemirror_mode": {
    "name": "ipython",
    "version": 2
   },
   "file_extension": ".py",
   "mimetype": "text/x-python",
   "name": "python",
   "nbconvert_exporter": "python",
   "pygments_lexer": "ipython2",
   "version": "2.7.10"
  }
 },
 "nbformat": 4,
 "nbformat_minor": 0
}
