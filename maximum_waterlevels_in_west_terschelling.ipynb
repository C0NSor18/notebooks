{
 "cells": [
  {
   "cell_type": "code",
   "execution_count": 1,
   "metadata": {},
   "outputs": [],
   "source": [
    "import datetime\n",
    "import netCDF4\n",
    "import pandas as pd\n",
    "import seaborn as sns\n",
    "\n",
    "import numpy as np\n",
    "import matplotlib.pyplot as plt\n",
    "%matplotlib inline"
   ]
  },
  {
   "cell_type": "code",
   "execution_count": 2,
   "metadata": {},
   "outputs": [],
   "source": [
    "# the URL for West Terschelling\n",
    "url = 'http://opendap.deltares.nl/thredds/dodsC/opendap/rijkswaterstaat/waterbase/27_Waterhoogte_in_cm_t.o.v._normaal_amsterdams_peil_in_oppervlaktewater/nc/id1-WESTTSLG.nc'"
   ]
  },
  {
   "cell_type": "code",
   "execution_count": 3,
   "metadata": {},
   "outputs": [],
   "source": [
    "# open the dataset\n",
    "ds = netCDF4.Dataset(url)"
   ]
  },
  {
   "cell_type": "code",
   "execution_count": 4,
   "metadata": {},
   "outputs": [],
   "source": [
    "# lookup relevant variables\n",
    "t = ds.variables['time']\n",
    "ssh = ds.variables['sea_surface_height']\n",
    "                 \n"
   ]
  },
  {
   "cell_type": "code",
   "execution_count": 5,
   "metadata": {},
   "outputs": [],
   "source": [
    "# convert to table\n",
    "# get all times and convert to date objects (so we can group by year)\n",
    "dates = netCDF4.num2date(t[:], ds.variables['time'].units)\n",
    "# query history of sea surface height and squeeze out empty dimension (1 location x time)\n",
    "ssh_values = np.squeeze(ssh[:])\n",
    "df = pd.DataFrame(data=dict(dates=dates, ssh=ssh_values))\n",
    "# use date as an index\n",
    "df = df.set_index('dates')"
   ]
  },
  {
   "cell_type": "code",
   "execution_count": 10,
   "metadata": {},
   "outputs": [
    {
     "data": {
      "image/png": "[encoded data removed]",
      "text/plain": [
       "<matplotlib.figure.Figure at 0x11ad64d30>"
      ]
     },
     "metadata": {},
     "output_type": "display_data"
    }
   ],
   "source": [
    "# make a new figure\n",
    "fig, ax = plt.subplots(figsize=(13, 8))\n",
    "# group data per year (max over 2000 is stored as 2000-12-31)\n",
    "grouped = df.groupby(pd.Grouper(freq=\"A\", label='right'))\n",
    "grouped_max = grouped.max()\n",
    "grouped_min = grouped.min()\n",
    "ax.plot(\n",
    "    grouped_max.index.to_pydatetime(), \n",
    "    grouped_max.ssh, \n",
    "    marker='_', \n",
    "    linewidth=0, \n",
    "    markeredgewidth=5, \n",
    "    markersize=12\n",
    ")\n",
    "\n",
    "y_label = \"{name}, maximum per jaar [{units}]\".format(\n",
    "    name=ds.variables['sea_surface_height'].Aquo_Grootheid_omschrijving,\n",
    "    units=ds.variables['sea_surface_height'].Aquo_Eenheid_code\n",
    ")\n",
    "ax.set_ylabel(y_label)\n",
    "ax.set_xlabel('Tijd')\n",
    "title = \"station: {station}, donar id: {donar_id}\".format(station=ds.stationname, donar_id=ds.donar_code)\n",
    "ax.set_title(title)\n",
    "ticks = list(\n",
    "    datetime.datetime(1920 + i, 1, 1).toordinal() \n",
    "    for i \n",
    "    in range(0, 110, 20)\n",
    ")\n",
    "ax.xaxis.set_ticks(ticks);\n"
   ]
  },
  {
   "cell_type": "code",
   "execution_count": null,
   "metadata": {},
   "outputs": [],
   "source": []
  }
 ],
 "metadata": {
  "kernelspec": {
   "display_name": "Python 3",
   "language": "python",
   "name": "python3"
  },
  "language_info": {
   "codemirror_mode": {
    "name": "ipython",
    "version": 3
   },
   "file_extension": ".py",
   "mimetype": "text/x-python",
   "name": "python",
   "nbconvert_exporter": "python",
   "pygments_lexer": "ipython3",
   "version": "3.6.3"
  }
 },
 "nbformat": 4,
 "nbformat_minor": 2
}
