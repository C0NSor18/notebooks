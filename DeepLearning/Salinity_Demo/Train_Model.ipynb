{
 "cells": [
  {
   "cell_type": "code",
   "execution_count": 1,
   "metadata": {},
   "outputs": [
    {
     "name": "stderr",
     "output_type": "stream",
     "text": [
      "Using TensorFlow backend.\n"
     ]
    }
   ],
   "source": [
    "import keras\n",
    "import matplotlib.pyplot as plt\n",
    "import numpy as np\n",
    "import pandas as pd\n",
    "%matplotlib inline"
   ]
  },
  {
   "cell_type": "code",
   "execution_count": 2,
   "metadata": {},
   "outputs": [],
   "source": [
    "# read the train batches from files created by the Preprocessing_NN_Data notebook\n",
    "def read_batches(filepath):\n",
    "    batches = []\n",
    "    number_read = -1\n",
    "    while True:\n",
    "        number_read += 1\n",
    "        try:\n",
    "            batch = pd.read_csv(filepath + '_' + str(number_read) + '.csv', index_col=0, parse_dates=True)\n",
    "            batches.append(batch)\n",
    "        except FileNotFoundError:\n",
    "            break\n",
    "    return batches\n",
    "            \n",
    "train_batches = read_batches('data/train/batch')"
   ]
  },
  {
   "cell_type": "code",
   "execution_count": 3,
   "metadata": {},
   "outputs": [],
   "source": [
    "# convert the dataframes in train_batches to the correct input and output shape (and make it arrays)\n",
    "def convert_to_keras_input(batches):\n",
    "    input_batches = []\n",
    "    output_batches = []\n",
    "    for batch in batches:\n",
    "        input_df = batch.iloc[:,1:]\n",
    "        output_df = batch['cl_kadij_out']\n",
    "        input_batches.append(input_df.as_matrix()[:,np.newaxis,:])\n",
    "        output_batches.append(output_df.as_matrix())\n",
    "    return (input_batches, output_batches)\n",
    "\n",
    "(input_train_batches, output_train_batches) = convert_to_keras_input(train_batches)"
   ]
  },
  {
   "cell_type": "code",
   "execution_count": null,
   "metadata": {},
   "outputs": [
    {
     "name": "stdout",
     "output_type": "stream",
     "text": [
      "_________________________________________________________________\n",
      "Layer (type)                 Output Shape              Param #   \n",
      "=================================================================\n",
      "lstm_1 (LSTM)                (None, 1, 4)              256       \n",
      "_________________________________________________________________\n",
      "lstm_2 (LSTM)                (None, 4)                 144       \n",
      "_________________________________________________________________\n",
      "dense_1 (Dense)              (None, 1)                 5         \n",
      "=================================================================\n",
      "Total params: 405\n",
      "Trainable params: 405\n",
      "Non-trainable params: 0\n",
      "_________________________________________________________________\n"
     ]
    }
   ],
   "source": [
    "# create a Keras model of the NN\n",
    "n_cells = 4\n",
    "input_shape = input_train_batches[0].shape[1:]\n",
    "\n",
    "model = keras.models.Sequential()\n",
    "model.add(keras.layers.LSTM(n_cells, input_shape=input_shape, return_sequences=True))\n",
    "model.add(keras.layers.LSTM(n_cells))\n",
    "model.add(keras.layers.Dense(1))\n",
    "model.compile(loss='mean_squared_error', optimizer='adam')\n",
    "\n",
    "model.summary()"
   ]
  },
  {
   "cell_type": "code",
   "execution_count": null,
   "metadata": {},
   "outputs": [
    {
     "name": "stdout",
     "output_type": "stream",
     "text": [
      "At epoch 0\n",
      "Epoch 1/1\n",
      "1s - loss: 0.1808\n",
      "At epoch 25\n",
      "Epoch 1/1\n",
      "0s - loss: 2.5508e-04\n",
      "At epoch 50\n",
      "Epoch 1/1\n",
      "0s - loss: 2.4394e-04\n"
     ]
    }
   ],
   "source": [
    "%%time\n",
    "# train the model (this will take hours!)\n",
    "\n",
    "n_epochs = 1000\n",
    "report_at = 25\n",
    "for i in range(0, n_epochs):\n",
    "    first_batch = 0\n",
    "    if i % report_at == 0:\n",
    "        print('At epoch', i)\n",
    "        model.fit(input_train_batches[0], output_train_batches[0], epochs=1, batch_size=len(output_train_batches[0]), verbose=2)\n",
    "        first_batch = 1\n",
    "    for j in range(first_batch,len(input_train_batches)):\n",
    "        model.fit(input_train_batches[j], output_train_batches[j], epochs=1, batch_size=len(output_train_batches[j]), verbose=0)"
   ]
  },
  {
   "cell_type": "code",
   "execution_count": null,
   "metadata": {},
   "outputs": [],
   "source": [
    "# write the model to a file, don't forget to change the output filename otherwise it won't write!\n",
    "output_filename = 'models/2layer_lstm'\n",
    "\n",
    "\n",
    "from pathlib import Path\n",
    "output_file = Path(output_filename + '.h5')\n",
    "if output_file.is_file():\n",
    "    print('Please choose a different filename, this one already exists!')\n",
    "else:\n",
    "    model.save(output_filename + '.h5')\n",
    "    info_file = open(output_filename + '_info.txt', 'w')\n",
    "    info_file.write('number of epochs: ' + str(n_epochs) + '\\n\\n')\n",
    "    model.summary(print_fn=lambda x: info_file.write(x + '\\n'))\n",
    "    info_file.close()"
   ]
  },
  {
   "cell_type": "code",
   "execution_count": null,
   "metadata": {
    "collapsed": true
   },
   "outputs": [],
   "source": []
  }
 ],
 "metadata": {
  "kernelspec": {
   "display_name": "Python 3",
   "language": "python",
   "name": "python3"
  },
  "language_info": {
   "codemirror_mode": {
    "name": "ipython",
    "version": 3
   },
   "file_extension": ".py",
   "mimetype": "text/x-python",
   "name": "python",
   "nbconvert_exporter": "python",
   "pygments_lexer": "ipython3",
   "version": "3.5.4"
  },
  "widgets": {
   "state": {},
   "version": "1.1.2"
  }
 },
 "nbformat": 4,
 "nbformat_minor": 2
}
