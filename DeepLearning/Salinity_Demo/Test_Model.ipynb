{
 "cells": [
  {
   "cell_type": "code",
   "execution_count": 1,
   "metadata": {},
   "outputs": [
    {
     "name": "stderr",
     "output_type": "stream",
     "text": [
      "Using TensorFlow backend.\n"
     ]
    }
   ],
   "source": [
    "import keras\n",
    "import matplotlib.pyplot as plt\n",
    "import numpy as np\n",
    "import pandas as pd\n",
    "%matplotlib inline"
   ]
  },
  {
   "cell_type": "code",
   "execution_count": 2,
   "metadata": {},
   "outputs": [],
   "source": [
    "# read the test batches from files created by the Preprocessing_NN_Data notebook\n",
    "def read_batches(filepath, include_cl_kadij_input=True):\n",
    "    batches = []\n",
    "    number_read = -1\n",
    "    while True:\n",
    "        number_read += 1\n",
    "        try:\n",
    "            batch = pd.read_csv(filepath + '_' + str(number_read) + '.csv', index_col=0, parse_dates=True)\n",
    "            if not include_cl_kadij_input:\n",
    "                batch = batch.drop('cl_kadij_1', 1)\n",
    "            batches.append(batch)\n",
    "        except FileNotFoundError:\n",
    "            break\n",
    "        \n",
    "    return batches\n",
    "\n",
    "#make sure this matches what was used to train the model or errors will occur due to different input sizes:\n",
    "include_cl_kadij_input = True\n",
    "test_batches = read_batches('data/test/batch', True)\n",
    "basic_prediction = [batch['cl_kadij_1'].as_matrix() for batch in test_batches]\n",
    "if not include_cl_kadij_input:\n",
    "    test_batches = [batch.drop('cl_kadij_1', 1) for batch in test_batches]"
   ]
  },
  {
   "cell_type": "code",
   "execution_count": 3,
   "metadata": {},
   "outputs": [
    {
     "data": {
      "text/html": [
       "<div>\n",
       "<style>\n",
       "    .dataframe thead tr:only-child th {\n",
       "        text-align: right;\n",
       "    }\n",
       "\n",
       "    .dataframe thead th {\n",
       "        text-align: left;\n",
       "    }\n",
       "\n",
       "    .dataframe tbody tr th {\n",
       "        vertical-align: top;\n",
       "    }\n",
       "</style>\n",
       "<table border=\"1\" class=\"dataframe\">\n",
       "  <thead>\n",
       "    <tr style=\"text-align: right;\">\n",
       "      <th></th>\n",
       "      <th>cl_kadij_out</th>\n",
       "      <th>cl_kadij_1</th>\n",
       "      <th>cl_lobith_3</th>\n",
       "      <th>cl_lobith_4</th>\n",
       "      <th>cl_lobith_5</th>\n",
       "      <th>cl_lobith_6</th>\n",
       "      <th>afv_lobith_6</th>\n",
       "      <th>afv_lobith_7</th>\n",
       "      <th>afv_lobith_8</th>\n",
       "      <th>afv_lobith_9</th>\n",
       "      <th>cum_stand_1</th>\n",
       "      <th>cum_stand_2</th>\n",
       "    </tr>\n",
       "  </thead>\n",
       "  <tbody>\n",
       "    <tr>\n",
       "      <th>1982-02-20 16:00:00</th>\n",
       "      <td>0.416482</td>\n",
       "      <td>0.411501</td>\n",
       "      <td>0.597715</td>\n",
       "      <td>0.587056</td>\n",
       "      <td>0.552096</td>\n",
       "      <td>0.485198</td>\n",
       "      <td>0.410334</td>\n",
       "      <td>0.424792</td>\n",
       "      <td>0.437368</td>\n",
       "      <td>0.448504</td>\n",
       "      <td>0.279987</td>\n",
       "      <td>0.298631</td>\n",
       "    </tr>\n",
       "    <tr>\n",
       "      <th>1982-02-21 16:00:00</th>\n",
       "      <td>0.421333</td>\n",
       "      <td>0.416482</td>\n",
       "      <td>0.610702</td>\n",
       "      <td>0.597715</td>\n",
       "      <td>0.587056</td>\n",
       "      <td>0.552096</td>\n",
       "      <td>0.400456</td>\n",
       "      <td>0.410334</td>\n",
       "      <td>0.424792</td>\n",
       "      <td>0.437368</td>\n",
       "      <td>0.291536</td>\n",
       "      <td>0.279987</td>\n",
       "    </tr>\n",
       "    <tr>\n",
       "      <th>1982-02-22 16:00:00</th>\n",
       "      <td>0.423712</td>\n",
       "      <td>0.421333</td>\n",
       "      <td>0.607463</td>\n",
       "      <td>0.610702</td>\n",
       "      <td>0.597715</td>\n",
       "      <td>0.587056</td>\n",
       "      <td>0.394730</td>\n",
       "      <td>0.400456</td>\n",
       "      <td>0.410334</td>\n",
       "      <td>0.424792</td>\n",
       "      <td>0.273057</td>\n",
       "      <td>0.291536</td>\n",
       "    </tr>\n",
       "    <tr>\n",
       "      <th>1982-02-23 16:00:00</th>\n",
       "      <td>0.407675</td>\n",
       "      <td>0.423712</td>\n",
       "      <td>0.573957</td>\n",
       "      <td>0.607463</td>\n",
       "      <td>0.610702</td>\n",
       "      <td>0.597715</td>\n",
       "      <td>0.389205</td>\n",
       "      <td>0.394730</td>\n",
       "      <td>0.400456</td>\n",
       "      <td>0.410334</td>\n",
       "      <td>0.323379</td>\n",
       "      <td>0.273057</td>\n",
       "    </tr>\n",
       "    <tr>\n",
       "      <th>1982-02-24 16:00:00</th>\n",
       "      <td>0.398429</td>\n",
       "      <td>0.407675</td>\n",
       "      <td>0.552207</td>\n",
       "      <td>0.573957</td>\n",
       "      <td>0.607463</td>\n",
       "      <td>0.610702</td>\n",
       "      <td>0.383251</td>\n",
       "      <td>0.389205</td>\n",
       "      <td>0.394730</td>\n",
       "      <td>0.400456</td>\n",
       "      <td>0.392674</td>\n",
       "      <td>0.323379</td>\n",
       "    </tr>\n",
       "  </tbody>\n",
       "</table>\n",
       "</div>"
      ],
      "text/plain": [
       "                     cl_kadij_out  cl_kadij_1  cl_lobith_3  cl_lobith_4  \\\n",
       "1982-02-20 16:00:00      0.416482    0.411501     0.597715     0.587056   \n",
       "1982-02-21 16:00:00      0.421333    0.416482     0.610702     0.597715   \n",
       "1982-02-22 16:00:00      0.423712    0.421333     0.607463     0.610702   \n",
       "1982-02-23 16:00:00      0.407675    0.423712     0.573957     0.607463   \n",
       "1982-02-24 16:00:00      0.398429    0.407675     0.552207     0.573957   \n",
       "\n",
       "                     cl_lobith_5  cl_lobith_6  afv_lobith_6  afv_lobith_7  \\\n",
       "1982-02-20 16:00:00     0.552096     0.485198      0.410334      0.424792   \n",
       "1982-02-21 16:00:00     0.587056     0.552096      0.400456      0.410334   \n",
       "1982-02-22 16:00:00     0.597715     0.587056      0.394730      0.400456   \n",
       "1982-02-23 16:00:00     0.610702     0.597715      0.389205      0.394730   \n",
       "1982-02-24 16:00:00     0.607463     0.610702      0.383251      0.389205   \n",
       "\n",
       "                     afv_lobith_8  afv_lobith_9  cum_stand_1  cum_stand_2  \n",
       "1982-02-20 16:00:00      0.437368      0.448504     0.279987     0.298631  \n",
       "1982-02-21 16:00:00      0.424792      0.437368     0.291536     0.279987  \n",
       "1982-02-22 16:00:00      0.410334      0.424792     0.273057     0.291536  \n",
       "1982-02-23 16:00:00      0.400456      0.410334     0.323379     0.273057  \n",
       "1982-02-24 16:00:00      0.394730      0.400456     0.392674     0.323379  "
      ]
     },
     "execution_count": 3,
     "metadata": {},
     "output_type": "execute_result"
    }
   ],
   "source": [
    "#print an example batch to see what they look like\n",
    "batch = test_batches[0]\n",
    "batch.head()"
   ]
  },
  {
   "cell_type": "code",
   "execution_count": 4,
   "metadata": {
    "collapsed": true
   },
   "outputs": [],
   "source": [
    "# convert the dataframes in train_batches to the correct input and output shape (and make it arrays)\n",
    "def convert_to_keras_input(batches):\n",
    "    input_batches = []\n",
    "    output_batches = []\n",
    "    for batch in batches:\n",
    "        input_df = batch.iloc[:,1:]\n",
    "        output_df = batch['cl_kadij_out']\n",
    "        input_batches.append(input_df.as_matrix()[:,np.newaxis,:])\n",
    "        output_batches.append(output_df.as_matrix())\n",
    "    return (input_batches, output_batches)\n",
    "\n",
    "(input_test_batches, output_test_batches) = convert_to_keras_input(test_batches)"
   ]
  },
  {
   "cell_type": "code",
   "execution_count": 5,
   "metadata": {},
   "outputs": [
    {
     "name": "stdout",
     "output_type": "stream",
     "text": [
      "------- info of read model --------\n",
      "\n",
      "number of epochs: 1000\n",
      "number of cells per layer: 11\n",
      "\n",
      "_________________________________________________________________\n",
      "Layer (type)                 Output Shape              Param #   \n",
      "=================================================================\n",
      "lstm_1 (LSTM)                (None, 1, 11)             1012      \n",
      "_________________________________________________________________\n",
      "lstm_2 (LSTM)                (None, 11)                1012      \n",
      "_________________________________________________________________\n",
      "dense_1 (Dense)              (None, 1)                 12        \n",
      "=================================================================\n",
      "Total params: 2,036\n",
      "Trainable params: 2,036\n",
      "Non-trainable params: 0\n",
      "_________________________________________________________________\n",
      "\n"
     ]
    }
   ],
   "source": [
    "# load the trained model from a file\n",
    "model_filename = 'models/2layer_lstm_11cells'\n",
    "\n",
    "model = keras.models.load_model(model_filename + '.h5')\n",
    "info_file = open(model_filename + '_info.txt')\n",
    "info = ''\n",
    "for line in info_file:\n",
    "    info += line\n",
    "info_file.close()\n",
    "print('------- info of read model --------\\n')\n",
    "print(info)"
   ]
  },
  {
   "cell_type": "code",
   "execution_count": 6,
   "metadata": {},
   "outputs": [],
   "source": [
    "# get the test results:\n",
    "output_model = []\n",
    "actual_value = []\n",
    "for i in range(0,len(test_batches)):\n",
    "    batch_model = model.predict(input_test_batches[i], batch_size = len(input_test_batches[i]))\n",
    "    output_model.append([val for sublist in batch_model for val in sublist])\n",
    "    actual_value.append(output_test_batches[i])"
   ]
  },
  {
   "cell_type": "code",
   "execution_count": 7,
   "metadata": {
    "collapsed": true
   },
   "outputs": [],
   "source": [
    "# load the scaler data from a file and define a function that retransforms the cl_kadij data to the actual values\n",
    "scaler_data = pd.read_csv('data/scaler_data.csv', index_col=0)\n",
    "\n",
    "def rescale_data(data,scaler_name):\n",
    "    data_range = scaler_data.loc[scaler_name, 'data_range_']\n",
    "    data_min = scaler_data.loc[scaler_name, 'data_min_']\n",
    "    converted = np.array(data) * data_range + data_min\n",
    "    return converted\n",
    "    \n",
    "def convert_cl_kadij_output(output):\n",
    "    rescaled_output = rescale_data(output, 'cl_kadij_scaler')\n",
    "    return np.exp(rescaled_output)"
   ]
  },
  {
   "cell_type": "code",
   "execution_count": 8,
   "metadata": {
    "collapsed": true
   },
   "outputs": [],
   "source": [
    "# rescale and transform data back to original values:\n",
    "output_model_scaled = [convert_cl_kadij_output(output) for output in output_model]\n",
    "actual_value_scaled = [convert_cl_kadij_output(output) for output in actual_value]\n",
    "basic_prediction_scaled = [convert_cl_kadij_output(output) for output in basic_prediction]"
   ]
  },
  {
   "cell_type": "code",
   "execution_count": 9,
   "metadata": {},
   "outputs": [],
   "source": [
    "# define some functions to calculate analysis of test results\n",
    "def calculate_MSE(predicted, actual, start_index=0):\n",
    "    '''calculates the MSE and returns it as well as the number of predictions and batches used to calculate it \n",
    "       returns (MSE, #predictions, #batches)\n",
    "       @param predicted: array of arrays of outputs per batch\n",
    "       @param actual: array of arrays of expected values per batch\n",
    "       @param start_index: only values starting at the start_index will be used for MSE for each batch\n",
    "    '''\n",
    "    if len(predicted) != len(actual):\n",
    "        raise ValueError('predicted and actual should contain the same number of batches')\n",
    "    if start_index < 0:\n",
    "        raise ValueError(\"can't start at a negative index\")\n",
    "    \n",
    "    SE_sum = 0\n",
    "    instance_count = 0\n",
    "    batch_count = 0\n",
    "    for i in range(0,len(predicted)):\n",
    "        prediction = predicted[i]\n",
    "        expected = actual[i]\n",
    "        if (len(prediction) <= start_index):\n",
    "            continue\n",
    "        SE = (prediction[start_index:] - expected[start_index:])**2\n",
    "        SE_sum += np.sum((prediction[start_index:] - expected[start_index:])**2)\n",
    "        instance_count += len(prediction[start_index:])\n",
    "        batch_count += 1\n",
    "    \n",
    "    if (instance_count == 0):\n",
    "        raise ValueError('No output data available with this start_index')\n",
    "    \n",
    "    return (SE_sum / instance_count, instance_count, batch_count)\n",
    "\n",
    "def calculate_prediction_skill(predicted, basic_predicted, actual, start_index=0):\n",
    "    '''calculates the prediction skill compared to the basic prediction method and returns it\n",
    "       returns (prediction_skill, MSE_model, MSE_basic, #predictions, #batches)'''\n",
    "    (MSE_model, instance_count, batch_count) = calculate_MSE(predicted, actual, start_index)\n",
    "    (MSE_basic, instance_count, batch_count) = calculate_MSE(basic_predicted, actual, start_index)\n",
    "    prediction_skill = 1 - MSE_model / MSE_basic\n",
    "    return (prediction_skill, MSE_model, MSE_basic, instance_count, batch_count)"
   ]
  },
  {
   "cell_type": "code",
   "execution_count": 10,
   "metadata": {
    "collapsed": true
   },
   "outputs": [],
   "source": [
    "# define a function to print the calculated analysis results:\n",
    "def print_prediction_skill(prediction_skill, MSE_model, MSE_basic, instance_count, batch_count):\n",
    "    print('prediction skill:', prediction_skill)\n",
    "    print('MSE model:', MSE_model)\n",
    "    print('MSE basic method:', MSE_basic)\n",
    "    print('based on', instance_count, 'instances in', batch_count, 'batches')"
   ]
  },
  {
   "cell_type": "code",
   "execution_count": 11,
   "metadata": {},
   "outputs": [
    {
     "name": "stdout",
     "output_type": "stream",
     "text": [
      "--- Analysis done over all test data ---\n",
      "prediction skill: 0.41672537878\n",
      "MSE model: 1684.17420866\n",
      "MSE basic method: 2887.44640584\n",
      "based on 42430 instances in 1399 batches\n"
     ]
    }
   ],
   "source": [
    "#print analysis results for all test data:\n",
    "print('--- Analysis done over all test data ---')\n",
    "print_prediction_skill(*calculate_prediction_skill(output_model_scaled, basic_prediction_scaled, actual_value_scaled))"
   ]
  },
  {
   "cell_type": "code",
   "execution_count": 12,
   "metadata": {
    "collapsed": true
   },
   "outputs": [],
   "source": [
    "# calculate the prediction skill with differing start_index (start-up time ignored by analysis)\n",
    "minimum_instances = 2000 \n",
    "minimum_batches = 200\n",
    "\n",
    "index = 0\n",
    "prediction_skills = []\n",
    "MSEs_model = []\n",
    "MSEs_basic = []\n",
    "instance_counts = []\n",
    "batch_counts = []\n",
    "while True:\n",
    "    (prediction_skill, MSE_model, MSE_basic, instance_count, batch_count) = calculate_prediction_skill(output_model_scaled, basic_prediction_scaled, actual_value_scaled, start_index=index)\n",
    "    prediction_skills.append(prediction_skill)\n",
    "    if batch_count < minimum_batches or instance_count < minimum_instances:\n",
    "        break\n",
    "    MSEs_model.append(MSE_model)\n",
    "    MSEs_basic.append(MSE_basic)\n",
    "    instance_counts.append(instance_count)\n",
    "    batch_counts.append(batch_count)\n",
    "    index += 1"
   ]
  },
  {
   "cell_type": "code",
   "execution_count": 13,
   "metadata": {},
   "outputs": [
    {
     "data": {
      "image/png": "[encoded data removed]",
      "text/plain": [
       "<matplotlib.figure.Figure at 0x1818b2e8>"
      ]
     },
     "metadata": {},
     "output_type": "display_data"
    }
   ],
   "source": [
    "plt.plot(prediction_skills)\n",
    "plt.xlabel('start_index')\n",
    "plt.ylabel('prediction skill');"
   ]
  },
  {
   "cell_type": "code",
   "execution_count": 14,
   "metadata": {
    "scrolled": true
   },
   "outputs": [
    {
     "data": {
      "image/png": "[encoded data removed]",
      "text/plain": [
       "<matplotlib.figure.Figure at 0x10554e48>"
      ]
     },
     "metadata": {},
     "output_type": "display_data"
    }
   ],
   "source": [
    "plt.plot(MSEs_model, 'b', label='MSE model')\n",
    "plt.plot(MSEs_basic, 'r--', label='MSE basic method')\n",
    "plt.xlabel('start_index')\n",
    "plt.legend();"
   ]
  },
  {
   "cell_type": "code",
   "execution_count": 15,
   "metadata": {},
   "outputs": [
    {
     "data": {
      "image/png": "[encoded data removed]",
      "text/plain": [
       "<matplotlib.figure.Figure at 0x1818be10>"
      ]
     },
     "metadata": {},
     "output_type": "display_data"
    }
   ],
   "source": [
    "f, ax_array = plt.subplots(2, sharex=True)\n",
    "f.tight_layout()\n",
    "#f.xlabel('start_index')\n",
    "ax_array[0].plot(instance_counts, label='number of instances')\n",
    "ax_array[0].legend()\n",
    "ax_array[1].plot(batch_counts, label='number of batches')\n",
    "ax_array[1].legend()\n",
    "f.text(0.5, 0.0, 'start_index', ha='center');"
   ]
  },
  {
   "cell_type": "code",
   "execution_count": 16,
   "metadata": {
    "collapsed": true
   },
   "outputs": [],
   "source": [
    "# old functions to calculate MSE and prediction skill still used by cell below\n",
    "def print_MSE(predicted, actual, print_prefix='', start_index=0):\n",
    "    '''calculates the MSE and prints it, returns the MSE'''\n",
    "    errors = np.abs(predicted - actual)\n",
    "    squared_errors = errors**2\n",
    "    MSE = np.average(squared_errors)\n",
    "    print(print_prefix + 'MSE:', MSE)\n",
    "    return MSE\n",
    "\n",
    "def print_prediction_skill_old(predicted, actual, basic_predicted, verbose=False):\n",
    "    '''calculates the prediction skill compared to the basic prediction method of using the same value as yesterday\n",
    "       the calculated prediction skill is printed and returned\n",
    "       note that it calls the print_MSE function which will also print the MSE\n",
    "       use verbose=True to also print the MSE of the basic prediction method'''\n",
    "    MSE = print_MSE(predicted, actual)\n",
    "    basic_errors = np.abs(actual - basic_predicted)\n",
    "    basic_MSE = np.average(basic_errors**2)\n",
    "    prediction_skill = 1 - MSE / basic_MSE\n",
    "    if (verbose):\n",
    "        print('MSE basic method:', basic_MSE)\n",
    "    print('prediction skill:', prediction_skill)\n",
    "    return prediction_skill"
   ]
  },
  {
   "cell_type": "code",
   "execution_count": 17,
   "metadata": {},
   "outputs": [
    {
     "name": "stdout",
     "output_type": "stream",
     "text": [
      "batch size 30\n",
      "\n",
      "--- When analysing each data point in this batch ---\n",
      "prediction skill: 0.324417687993\n",
      "MSE model: 70.3055992695\n",
      "MSE basic method: 104.066666667\n",
      "based on 30 instances in 1 batches\n"
     ]
    },
    {
     "data": {
      "image/png": "[encoded data removed]",
      "text/plain": [
       "<matplotlib.figure.Figure at 0x17cca9e8>"
      ]
     },
     "metadata": {},
     "output_type": "display_data"
    }
   ],
   "source": [
    "batch_index = 0\n",
    "print('batch size', len(test_batches[batch_index]))\n",
    "batch_output_model = model.predict(input_test_batches[batch_index], batch_size=len(input_test_batches[batch_index]))\n",
    "batch_output_model = [val for subarray in batch_output_model for val in subarray]\n",
    "batch_output_actual_converted = convert_cl_kadij_output(output_test_batches[batch_index])\n",
    "batch_output_model_converted = convert_cl_kadij_output(batch_output_model)\n",
    "batch_output_basic_converted = basic_prediction_scaled[batch_index]\n",
    "plt.plot(test_batches[batch_index].index.values, batch_output_actual_converted, 'b--', label='actual data')\n",
    "plt.plot(test_batches[batch_index].index.values, batch_output_model_converted, 'y', label='predicted data')\n",
    "plt.axhline(250, color='red')\n",
    "plt.legend();\n",
    "\n",
    "print('\\n--- When analysing each data point in this batch ---')\n",
    "print_prediction_skill(*calculate_prediction_skill([batch_output_model_converted], [batch_output_basic_converted], [batch_output_actual_converted]))"
   ]
  },
  {
   "cell_type": "code",
   "execution_count": 18,
   "metadata": {},
   "outputs": [
    {
     "name": "stdout",
     "output_type": "stream",
     "text": [
      "(array([   7,   16,   19,   68,   72,   87,  101,  124,  142,  159,  174,\n",
      "        177,  216,  218,  219,  251,  255,  257,  268,  314,  398,  418,\n",
      "        426,  437,  449,  451,  470,  493,  498,  517,  524,  566,  581,\n",
      "        585,  592,  624,  629,  642,  646,  648,  653,  676,  692,  696,\n",
      "        718,  738,  742,  743,  756,  803,  812,  814,  815,  822,  825,\n",
      "        829,  830,  841,  851,  865,  880,  894,  913,  918,  920,  928,\n",
      "        936,  944, 1012, 1033, 1036, 1044, 1070, 1078, 1111, 1113, 1136,\n",
      "       1147, 1161, 1184, 1186, 1190, 1246, 1249, 1303, 1318, 1319, 1324,\n",
      "       1332, 1341, 1352, 1370, 1376], dtype=int64),)\n"
     ]
    }
   ],
   "source": [
    "# print the indices of big (>100) batches to use in the cell above\n",
    "batch_sizes = [len(batch) for batch in test_batches]\n",
    "print(np.where(np.array(batch_sizes) > 100))"
   ]
  },
  {
   "cell_type": "code",
   "execution_count": null,
   "metadata": {
    "collapsed": true
   },
   "outputs": [],
   "source": []
  }
 ],
 "metadata": {
  "kernelspec": {
   "display_name": "Python 3",
   "language": "python",
   "name": "python3"
  },
  "language_info": {
   "codemirror_mode": {
    "name": "ipython",
    "version": 3
   },
   "file_extension": ".py",
   "mimetype": "text/x-python",
   "name": "python",
   "nbconvert_exporter": "python",
   "pygments_lexer": "ipython3",
   "version": "3.5.4"
  },
  "widgets": {
   "state": {},
   "version": "1.1.2"
  }
 },
 "nbformat": 4,
 "nbformat_minor": 2
}
