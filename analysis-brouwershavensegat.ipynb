{
 "cells": [
  {
   "cell_type": "code",
   "execution_count": 1,
   "metadata": {},
   "outputs": [],
   "source": [
    "url = 'http://opendap.deltares.nl/thredds/dodsC/opendap/rijkswaterstaat/waterbase/27_Waterhoogte_in_cm_t.o.v._normaal_amsterdams_peil_in_oppervlaktewater/nc/id1-BROUWHVSGT08.nc'"
   ]
  },
  {
   "cell_type": "code",
   "execution_count": 2,
   "metadata": {},
   "outputs": [],
   "source": [
    "import datetime\n",
    "\n",
    "import pandas as pd\n",
    "import xarray\n",
    "import matplotlib.pyplot as plt"
   ]
  },
  {
   "cell_type": "code",
   "execution_count": 3,
   "metadata": {},
   "outputs": [],
   "source": [
    "# open dataset\n",
    "ds = xarray.open_dataset(url)"
   ]
  },
  {
   "cell_type": "code",
   "execution_count": 4,
   "metadata": {},
   "outputs": [],
   "source": [
    "# get first location (only 1 location in file)\n",
    "ssh = ds.sea_surface_height[0]"
   ]
  },
  {
   "cell_type": "code",
   "execution_count": 5,
   "metadata": {},
   "outputs": [],
   "source": [
    "# convert to dataframe\n",
    "df = pd.DataFrame(ssh.to_pandas(), columns=['ssh'])"
   ]
  },
  {
   "cell_type": "code",
   "execution_count": 6,
   "metadata": {},
   "outputs": [
    {
     "name": "stdout",
     "output_type": "stream",
     "text": [
      "             ssh\n",
      "time            \n",
      "1978-12-31     2\n",
      "1979-12-31  8784\n",
      "1980-12-31  8760\n",
      "              ssh\n",
      "time             \n",
      "2015-12-31  52704\n",
      "2016-12-31  52560\n",
      "2017-12-31  35943\n"
     ]
    }
   ],
   "source": [
    "# check number of measurements per year\n",
    "# this data is up to date until 2018-09\n",
    "# after that waterbase was is no longer available.\n",
    "# the updates based on DDL are not yet available\n",
    "counts = df.resample('A', label='left').count()\n",
    "print(counts.head(n=3))\n",
    "print(counts.tail(n=3))"
   ]
  },
  {
   "cell_type": "code",
   "execution_count": 7,
   "metadata": {},
   "outputs": [],
   "source": [
    "# drop incomplete years\n",
    "df = df[df.index > datetime.datetime(1980, 1, 1)]\n",
    "df = df[df.index < datetime.datetime(2018, 1, 1)]\n"
   ]
  },
  {
   "cell_type": "code",
   "execution_count": 8,
   "metadata": {},
   "outputs": [
    {
     "data": {
      "text/plain": [
       "Text(0.5, 1.0, 'Annual mean')"
      ]
     },
     "execution_count": 8,
     "metadata": {},
     "output_type": "execute_result"
    },
    {
     "data": {
      "image/png": "[encoded data removed]",
      "text/plain": [
       "<Figure size 576x360 with 1 Axes>"
      ]
     },
     "metadata": {},
     "output_type": "display_data"
    }
   ],
   "source": [
    "# plot measured data (labels are a bit off)\n",
    "fig, ax = plt.subplots(figsize=(8, 5))\n",
    "annual_mean_df = df.resample('A', label='right').mean()\n",
    "annual_mean_df.plot(style='k_', ax=ax)\n",
    "ax.set_ylabel(\"{} [{}]\".format(ssh.standard_name, ssh.units))\n",
    "ax.set_title('Annual mean')"
   ]
  },
  {
   "cell_type": "code",
   "execution_count": 9,
   "metadata": {},
   "outputs": [
    {
     "data": {
      "text/plain": [
       "Text(0.5, 1.0, 'Annual max (values at end of period)')"
      ]
     },
     "execution_count": 9,
     "metadata": {},
     "output_type": "execute_result"
    },
    {
     "data": {
      "image/png": "[encoded data removed]",
      "text/plain": [
       "<Figure size 576x360 with 1 Axes>"
      ]
     },
     "metadata": {},
     "output_type": "display_data"
    }
   ],
   "source": [
    "# plot annual maxima\n",
    "fig, ax = plt.subplots(figsize=(8, 5))\n",
    "df.resample('A', label='right').max().plot(style='k.', ax=ax)\n",
    "ax.set_ylabel(\"{} [{}]\".format(ssh.standard_name, ssh.units))\n",
    "ax.set_title('Annual max (values at end of period)')"
   ]
  },
  {
   "cell_type": "code",
   "execution_count": 10,
   "metadata": {},
   "outputs": [],
   "source": [
    "import statsmodels.regression.linear_model \n",
    "import statsmodels.api as sm\n",
    "import numpy as np\n"
   ]
  },
  {
   "cell_type": "code",
   "execution_count": 11,
   "metadata": {},
   "outputs": [],
   "source": [
    "# define the statistical model\n",
    "def linear_model(df, with_ar=True):\n",
    "    y = df['height']\n",
    "    X = np.c_[\n",
    "        df['year']-1970, \n",
    "        np.cos(2*np.pi*(df['year']-1970)/18.613),\n",
    "        np.sin(2*np.pi*(df['year']-1970)/18.613)\n",
    "    ]\n",
    "    month = np.mod(df['year'], 1) * 12.0\n",
    "    names = ['Constant', 'Trend', 'Nodal U', 'Nodal V']\n",
    "    X = sm.add_constant(X)\n",
    "    if with_ar:\n",
    "        model = sm.GLSAR(y, X, missing='drop', rho=1)\n",
    "    else:\n",
    "        model = sm.OLS(y, X, missing='drop')\n",
    "    fit = model.fit(cov_type='HC0')\n",
    "    return fit, names"
   ]
  },
  {
   "cell_type": "code",
   "execution_count": 12,
   "metadata": {},
   "outputs": [],
   "source": [
    "year = [x.year for x in annual_mean_df.index]\n",
    "annual_mean_df['year'] = year\n",
    "# m to mm\n",
    "annual_mean_df['height'] = annual_mean_df['ssh'] * 1000\n"
   ]
  },
  {
   "cell_type": "code",
   "execution_count": 13,
   "metadata": {},
   "outputs": [
    {
     "data": {
      "text/html": [
       "<table class=\"simpletable\">\n",
       "<caption>GLSAR Regression Results</caption>\n",
       "<tr>\n",
       "  <th>Dep. Variable:</th>         <td>height</td>      <th>  R-squared:         </th> <td>   0.317</td>\n",
       "</tr>\n",
       "<tr>\n",
       "  <th>Model:</th>                  <td>GLSAR</td>      <th>  Adj. R-squared:    </th> <td>   0.255</td>\n",
       "</tr>\n",
       "<tr>\n",
       "  <th>Method:</th>             <td>Least Squares</td>  <th>  F-statistic:       </th> <td>   5.949</td>\n",
       "</tr>\n",
       "<tr>\n",
       "  <th>Date:</th>             <td>Thu, 25 Apr 2019</td> <th>  Prob (F-statistic):</th>  <td>0.00233</td>\n",
       "</tr>\n",
       "<tr>\n",
       "  <th>Time:</th>                 <td>23:43:16</td>     <th>  Log-Likelihood:    </th> <td> -179.32</td>\n",
       "</tr>\n",
       "<tr>\n",
       "  <th>No. Observations:</th>      <td>    37</td>      <th>  AIC:               </th> <td>   366.6</td>\n",
       "</tr>\n",
       "<tr>\n",
       "  <th>Df Residuals:</th>          <td>    33</td>      <th>  BIC:               </th> <td>   373.1</td>\n",
       "</tr>\n",
       "<tr>\n",
       "  <th>Df Model:</th>              <td>     3</td>      <th>                     </th>     <td> </td>   \n",
       "</tr>\n",
       "<tr>\n",
       "  <th>Covariance Type:</th>         <td>HC0</td>       <th>                     </th>     <td> </td>   \n",
       "</tr>\n",
       "</table>\n",
       "<table class=\"simpletable\">\n",
       "<tr>\n",
       "    <td></td>       <th>coef</th>     <th>std err</th>      <th>z</th>      <th>P>|z|</th>  <th>[0.025</th>    <th>0.975]</th>  \n",
       "</tr>\n",
       "<tr>\n",
       "  <th>const</th> <td>  -54.8593</td> <td>   17.873</td> <td>   -3.069</td> <td> 0.002</td> <td>  -89.889</td> <td>  -19.829</td>\n",
       "</tr>\n",
       "<tr>\n",
       "  <th>x1</th>    <td>    2.0208</td> <td>    0.522</td> <td>    3.874</td> <td> 0.000</td> <td>    0.998</td> <td>    3.043</td>\n",
       "</tr>\n",
       "<tr>\n",
       "  <th>x2</th>    <td>   -1.5794</td> <td>    8.248</td> <td>   -0.191</td> <td> 0.848</td> <td>  -17.745</td> <td>   14.586</td>\n",
       "</tr>\n",
       "<tr>\n",
       "  <th>x3</th>    <td>  -19.1110</td> <td>    6.761</td> <td>   -2.827</td> <td> 0.005</td> <td>  -32.361</td> <td>   -5.861</td>\n",
       "</tr>\n",
       "</table>\n",
       "<table class=\"simpletable\">\n",
       "<tr>\n",
       "  <th>Omnibus:</th>       <td> 1.283</td> <th>  Durbin-Watson:     </th> <td>   1.341</td>\n",
       "</tr>\n",
       "<tr>\n",
       "  <th>Prob(Omnibus):</th> <td> 0.526</td> <th>  Jarque-Bera (JB):  </th> <td>   0.876</td>\n",
       "</tr>\n",
       "<tr>\n",
       "  <th>Skew:</th>          <td>-0.377</td> <th>  Prob(JB):          </th> <td>   0.645</td>\n",
       "</tr>\n",
       "<tr>\n",
       "  <th>Kurtosis:</th>      <td> 2.967</td> <th>  Cond. No.          </th> <td>    98.6</td>\n",
       "</tr>\n",
       "</table><br/><br/>Warnings:<br/>[1] Standard Errors are heteroscedasticity robust (HC0)"
      ],
      "text/plain": [
       "<class 'statsmodels.iolib.summary.Summary'>\n",
       "\"\"\"\n",
       "                           GLSAR Regression Results                           \n",
       "==============================================================================\n",
       "Dep. Variable:                 height   R-squared:                       0.317\n",
       "Model:                          GLSAR   Adj. R-squared:                  0.255\n",
       "Method:                 Least Squares   F-statistic:                     5.949\n",
       "Date:                Thu, 25 Apr 2019   Prob (F-statistic):            0.00233\n",
       "Time:                        23:43:16   Log-Likelihood:                -179.32\n",
       "No. Observations:                  37   AIC:                             366.6\n",
       "Df Residuals:                      33   BIC:                             373.1\n",
       "Df Model:                           3                                         \n",
       "Covariance Type:                  HC0                                         \n",
       "==============================================================================\n",
       "                 coef    std err          z      P>|z|      [0.025      0.975]\n",
       "------------------------------------------------------------------------------\n",
       "const        -54.8593     17.873     -3.069      0.002     -89.889     -19.829\n",
       "x1             2.0208      0.522      3.874      0.000       0.998       3.043\n",
       "x2            -1.5794      8.248     -0.191      0.848     -17.745      14.586\n",
       "x3           -19.1110      6.761     -2.827      0.005     -32.361      -5.861\n",
       "==============================================================================\n",
       "Omnibus:                        1.283   Durbin-Watson:                   1.341\n",
       "Prob(Omnibus):                  0.526   Jarque-Bera (JB):                0.876\n",
       "Skew:                          -0.377   Prob(JB):                        0.645\n",
       "Kurtosis:                       2.967   Cond. No.                         98.6\n",
       "==============================================================================\n",
       "\n",
       "Warnings:\n",
       "[1] Standard Errors are heteroscedasticity robust (HC0)\n",
       "\"\"\""
      ]
     },
     "execution_count": 13,
     "metadata": {},
     "output_type": "execute_result"
    }
   ],
   "source": [
    "fit, names = linear_model(annual_mean_df)\n",
    "prediction = fit.get_prediction()\n",
    "fit.summary()\n"
   ]
  },
  {
   "cell_type": "code",
   "execution_count": 14,
   "metadata": {},
   "outputs": [
    {
     "data": {
      "text/plain": [
       "<matplotlib.legend.Legend at 0x12bb3bd68>"
      ]
     },
     "execution_count": 14,
     "metadata": {},
     "output_type": "execute_result"
    },
    {
     "data": {
      "image/png": "[encoded data removed]",
      "text/plain": [
       "<Figure size 576x360 with 1 Axes>"
      ]
     },
     "metadata": {},
     "output_type": "display_data"
    }
   ],
   "source": [
    "fig, ax = plt.subplots(figsize=(8, 5))\n",
    "ax.plot(annual_mean_df.index, annual_mean_df.height, 'k_')\n",
    "ax.set_ylabel(\"{} [{}]\".format(ssh.standard_name, 'mm'))\n",
    "ax.set_title('Annual mean')\n",
    "conf_int = prediction.conf_int()\n",
    "pred_int = prediction.conf_int(obs=True)\n",
    "ax.fill_between(annual_mean_df.index, pred_int[:, 0], pred_int[:, 1], alpha=0.1, color='blue', label='prediction interval')\n",
    "ax.fill_between(annual_mean_df.index, conf_int[:, 0], conf_int[:, 1], alpha=0.3, color='blue', label='confidence interval')\n",
    "ax.plot(annual_mean_df.index, fit.predict(), color='blue', label='fitted trend')\n",
    "ax.legend()\n"
   ]
  }
 ],
 "metadata": {
  "kernelspec": {
   "display_name": "Python 3",
   "language": "python",
   "name": "python3"
  },
  "language_info": {
   "codemirror_mode": {
    "name": "ipython",
    "version": 3
   },
   "file_extension": ".py",
   "mimetype": "text/x-python",
   "name": "python",
   "nbconvert_exporter": "python",
   "pygments_lexer": "ipython3",
   "version": "3.6.8"
  }
 },
 "nbformat": 4,
 "nbformat_minor": 2
}
