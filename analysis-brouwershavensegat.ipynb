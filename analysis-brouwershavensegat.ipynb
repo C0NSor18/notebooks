{
 "cells": [
  {
   "cell_type": "code",
   "execution_count": 1,
   "metadata": {},
   "outputs": [],
   "source": [
    "url = 'http://opendap.deltares.nl/thredds/dodsC/opendap/rijkswaterstaat/waterbase/27_Waterhoogte_in_cm_t.o.v._normaal_amsterdams_peil_in_oppervlaktewater/nc/id1-BROUWHVSGT08.nc'"
   ]
  },
  {
   "cell_type": "code",
   "execution_count": 2,
   "metadata": {},
   "outputs": [],
   "source": [
    "import datetime\n",
    "\n",
    "import pandas as pd\n",
    "import numpy as np\n",
    "\n",
    "import xarray\n",
    "import matplotlib.pyplot as plt\n",
    "\n",
    "import statsmodels.regression.linear_model \n",
    "import statsmodels.api as sm\n"
   ]
  },
  {
   "cell_type": "code",
   "execution_count": null,
   "metadata": {},
   "outputs": [],
   "source": [
    "# open dataset\n",
    "ds = xarray.open_dataset(url)"
   ]
  },
  {
   "cell_type": "code",
   "execution_count": null,
   "metadata": {},
   "outputs": [],
   "source": [
    "# get first location (only 1 location in file)\n",
    "ssh = ds.sea_surface_height[0]"
   ]
  },
  {
   "cell_type": "code",
   "execution_count": null,
   "metadata": {},
   "outputs": [],
   "source": [
    "# convert to dataframe\n",
    "df = pd.DataFrame(ssh.to_pandas(), columns=['ssh'])"
   ]
  },
  {
   "cell_type": "code",
   "execution_count": null,
   "metadata": {},
   "outputs": [],
   "source": [
    "# check number of measurements per year\n",
    "# this data is up to date until 2018-09\n",
    "# after that waterbase was is no longer available.\n",
    "# the updates based on DDL are not yet available\n",
    "counts = df.resample('A', label='left').count()\n",
    "print(counts.head(n=3))\n",
    "print(counts.tail(n=3))"
   ]
  },
  {
   "cell_type": "code",
   "execution_count": null,
   "metadata": {},
   "outputs": [],
   "source": [
    "# drop incomplete years\n",
    "df = df[df.index > datetime.datetime(1980, 1, 1)]\n",
    "df = df[df.index < datetime.datetime(2018, 1, 1)]\n"
   ]
  },
  {
   "cell_type": "code",
   "execution_count": null,
   "metadata": {},
   "outputs": [],
   "source": [
    "# define some extra variables\n",
    "annual_mean_df = df.resample('A', label='right').mean()\n",
    "annual_max_df = df.resample('A', label='right').max()\n",
    "year = [x.year for x in annual_mean_df.index]\n",
    "annual_mean_df['year'] = year\n",
    "year = [x.year for x in annual_max_df.index]\n",
    "annual_max_df['year'] = year\n",
    "# m to mm, sealevelmonitor is in mm\n",
    "annual_mean_df['height'] = annual_mean_df['ssh'] * 1000\n",
    "annual_max_df['height'] = annual_max_df['ssh'] * 1000\n"
   ]
  },
  {
   "cell_type": "code",
   "execution_count": null,
   "metadata": {},
   "outputs": [],
   "source": [
    "# plot measured data (labels are a bit off)\n",
    "fig, ax = plt.subplots(figsize=(8, 5))\n",
    "ax.plot(annual_mean_df.year, annual_mean_df.height, 'k.')\n",
    "ax.set_ylabel(\"{} [{}]\".format(ssh.standard_name, 'mm'))\n",
    "ax.set_title('Annual mean');"
   ]
  },
  {
   "cell_type": "code",
   "execution_count": null,
   "metadata": {},
   "outputs": [],
   "source": [
    "# plot annual maxima\n",
    "fig, ax = plt.subplots(figsize=(8, 5))\n",
    "ax.plot(annual_max_df['year'], annual_max_df['height'], 'k.')\n",
    "ax.set_ylabel(\"{} [{}]\".format(ssh.standard_name, 'mm'))\n",
    "ax.set_title('Annual max (values at end of period)');"
   ]
  },
  {
   "cell_type": "code",
   "execution_count": null,
   "metadata": {},
   "outputs": [],
   "source": [
    "# define the statistical model\n",
    "def linear_model(df, with_ar=True):\n",
    "    y = df['height']\n",
    "    X = np.c_[\n",
    "        df['year']-1970, \n",
    "        np.cos(2*np.pi*(df['year']-1970)/18.613),\n",
    "        np.sin(2*np.pi*(df['year']-1970)/18.613)\n",
    "    ]\n",
    "    month = np.mod(df['year'], 1) * 12.0\n",
    "    names = ['Constant', 'Trend', 'Nodal U', 'Nodal V']\n",
    "    X = sm.add_constant(X)\n",
    "    if with_ar:\n",
    "        model = sm.GLSAR(y, X, missing='drop', rho=1)\n",
    "    else:\n",
    "        model = sm.OLS(y, X, missing='drop')\n",
    "    fit = model.fit(cov_type='HC0')\n",
    "    return fit, names"
   ]
  },
  {
   "cell_type": "code",
   "execution_count": null,
   "metadata": {},
   "outputs": [],
   "source": [
    "fit, names = linear_model(annual_mean_df)\n",
    "prediction = fit.get_prediction()\n",
    "fit.summary(xname=names)\n"
   ]
  },
  {
   "cell_type": "code",
   "execution_count": null,
   "metadata": {},
   "outputs": [],
   "source": [
    "fig, ax = plt.subplots(figsize=(10, 5))\n",
    "ax.plot(annual_mean_df.year, annual_mean_df.height, 'k.')\n",
    "ax.set_ylabel(\"{} [{}]\".format(ssh.standard_name, 'mm'))\n",
    "ax.set_title('Annual mean')\n",
    "conf_int = prediction.conf_int()\n",
    "pred_int = prediction.conf_int(obs=True)\n",
    "ax.fill_between(annual_mean_df.year, pred_int[:, 0], pred_int[:, 1], alpha=0.1, color='blue', label='prediction interval')\n",
    "ax.fill_between(annual_mean_df.year, conf_int[:, 0], conf_int[:, 1], alpha=0.3, color='blue', label='confidence interval')\n",
    "ax.plot(annual_mean_df.year, fit.predict(), color='blue', label='fitted trend')\n",
    "ax.legend()\n",
    "ax.grid(True)\n"
   ]
  }
 ],
 "metadata": {
  "kernelspec": {
   "display_name": "Python 3",
   "language": "python",
   "name": "python3"
  },
  "language_info": {
   "codemirror_mode": {
    "name": "ipython",
    "version": 3
   },
   "file_extension": ".py",
   "mimetype": "text/x-python",
   "name": "python",
   "nbconvert_exporter": "python",
   "pygments_lexer": "ipython3",
   "version": "3.6.8"
  }
 },
 "nbformat": 4,
 "nbformat_minor": 2
}
