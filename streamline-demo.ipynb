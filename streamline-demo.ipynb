{
 "cells": [
  {
   "cell_type": "code",
   "execution_count": 1,
   "metadata": {},
   "outputs": [],
   "source": [
    "import pathlib\n",
    "\n",
    "import pyugrid\n",
    "\n",
    "# TODO: use underlying code?\n",
    "import flowmap.formats\n",
    "import flowmap.particles"
   ]
  },
  {
   "cell_type": "code",
   "execution_count": 2,
   "metadata": {},
   "outputs": [],
   "source": [
    "# open the netCDF file\n",
    "path = pathlib.Path('~/Downloads/FinalAttempt/Project1.dsproj_data/FlowFM/DFM_OUTPUT_FlowFM/FlowFM_map.nc').expanduser()\n",
    "n_particles = 10000\n"
   ]
  },
  {
   "cell_type": "code",
   "execution_count": 3,
   "metadata": {},
   "outputs": [],
   "source": [
    "# read the data\n",
    "grid = flowmap.formats.UGrid(str(path))"
   ]
  },
  {
   "cell_type": "code",
   "execution_count": 8,
   "metadata": {},
   "outputs": [
    {
     "name": "stderr",
     "output_type": "stream",
     "text": [
      "/Users/baart_f/.virtualenvs/main/lib/python3.6/site-packages/tvtk/array_handler.py:268: FutureWarning: Conversion of the second argument of issubdtype from `complex` to `np.complexfloating` is deprecated. In future, it will be treated as `np.complex128 == np.dtype(complex).type`.\n",
      "  assert not numpy.issubdtype(z.dtype, complex), \\\n"
     ]
    }
   ],
   "source": [
    "# convert to VTK polydata\n",
    "polydata = grid.to_polydata()\n",
    "# fill in data for current timestep\n",
    "grid.update_polydata(polydata, -1)\n",
    "# seed (starting points)\n",
    "seed = flowmap.particles.make_particles(polydata, n=n_particles)\n",
    "# tracer pipeline (seed + polydat -> streamtracer -> extract lines)\n",
    "tracer = flowmap.particles.make_tracer_pipeline(polydata, seed)"
   ]
  },
  {
   "cell_type": "code",
   "execution_count": 5,
   "metadata": {},
   "outputs": [],
   "source": [
    "# compute the streamlines\n",
    "tracer.update()\n",
    "# extract table with lines\n",
    "lines = flowmap.particles.extract_lines(tracer)"
   ]
  },
  {
   "cell_type": "code",
   "execution_count": 6,
   "metadata": {},
   "outputs": [
    {
     "data": {
      "text/html": [
       "<div>\n",
       "<style scoped>\n",
       "    .dataframe tbody tr th:only-of-type {\n",
       "        vertical-align: middle;\n",
       "    }\n",
       "\n",
       "    .dataframe tbody tr th {\n",
       "        vertical-align: top;\n",
       "    }\n",
       "\n",
       "    .dataframe thead th {\n",
       "        text-align: right;\n",
       "    }\n",
       "</style>\n",
       "<table border=\"1\" class=\"dataframe\">\n",
       "  <thead>\n",
       "    <tr style=\"text-align: right;\">\n",
       "      <th></th>\n",
       "      <th>IntegrationTime</th>\n",
       "      <th>ReasonForTermination</th>\n",
       "      <th>SeedIds</th>\n",
       "      <th>line</th>\n",
       "      <th>points</th>\n",
       "    </tr>\n",
       "  </thead>\n",
       "  <tbody>\n",
       "    <tr>\n",
       "      <th>0</th>\n",
       "      <td>9093.814690</td>\n",
       "      <td>4</td>\n",
       "      <td>12</td>\n",
       "      <td>[[7489913.0, 20502002.0, 0.0], [7489888.0, 205...</td>\n",
       "      <td>[0, 1, 2, 3, 4, 5, 6, 7, 8, 9, 10, 11, 12, 13,...</td>\n",
       "    </tr>\n",
       "    <tr>\n",
       "      <th>1</th>\n",
       "      <td>8386.704314</td>\n",
       "      <td>4</td>\n",
       "      <td>39</td>\n",
       "      <td>[[7487002.0, 20504880.0, 0.0], [7486958.0, 205...</td>\n",
       "      <td>[23, 24, 25, 26, 27, 28, 29, 30, 31, 32, 33, 3...</td>\n",
       "    </tr>\n",
       "    <tr>\n",
       "      <th>2</th>\n",
       "      <td>7844.490624</td>\n",
       "      <td>4</td>\n",
       "      <td>64</td>\n",
       "      <td>[[7487489.0, 20505080.0, 0.0], [7487445.0, 205...</td>\n",
       "      <td>[45, 46, 47, 48, 49, 50, 51, 52, 53, 54, 55, 5...</td>\n",
       "    </tr>\n",
       "    <tr>\n",
       "      <th>3</th>\n",
       "      <td>10984.050275</td>\n",
       "      <td>3</td>\n",
       "      <td>107</td>\n",
       "      <td>[[7492022.5, 20500226.0, 0.0], [7491993.0, 205...</td>\n",
       "      <td>[67, 68, 69, 70, 71, 72, 73, 74, 75, 76, 77, 7...</td>\n",
       "    </tr>\n",
       "    <tr>\n",
       "      <th>4</th>\n",
       "      <td>7668.715882</td>\n",
       "      <td>1</td>\n",
       "      <td>111</td>\n",
       "      <td>[[7486711.5, 20504656.0, 0.0], [7486667.5, 205...</td>\n",
       "      <td>[88, 89, 90, 91, 92, 93, 94, 95, 96, 97, 98, 9...</td>\n",
       "    </tr>\n",
       "  </tbody>\n",
       "</table>\n",
       "</div>"
      ],
      "text/plain": [
       "   IntegrationTime  ReasonForTermination  SeedIds  \\\n",
       "0      9093.814690                     4       12   \n",
       "1      8386.704314                     4       39   \n",
       "2      7844.490624                     4       64   \n",
       "3     10984.050275                     3      107   \n",
       "4      7668.715882                     1      111   \n",
       "\n",
       "                                                line  \\\n",
       "0  [[7489913.0, 20502002.0, 0.0], [7489888.0, 205...   \n",
       "1  [[7487002.0, 20504880.0, 0.0], [7486958.0, 205...   \n",
       "2  [[7487489.0, 20505080.0, 0.0], [7487445.0, 205...   \n",
       "3  [[7492022.5, 20500226.0, 0.0], [7491993.0, 205...   \n",
       "4  [[7486711.5, 20504656.0, 0.0], [7486667.5, 205...   \n",
       "\n",
       "                                              points  \n",
       "0  [0, 1, 2, 3, 4, 5, 6, 7, 8, 9, 10, 11, 12, 13,...  \n",
       "1  [23, 24, 25, 26, 27, 28, 29, 30, 31, 32, 33, 3...  \n",
       "2  [45, 46, 47, 48, 49, 50, 51, 52, 53, 54, 55, 5...  \n",
       "3  [67, 68, 69, 70, 71, 72, 73, 74, 75, 76, 77, 7...  \n",
       "4  [88, 89, 90, 91, 92, 93, 94, 95, 96, 97, 98, 9...  "
      ]
     },
     "execution_count": 6,
     "metadata": {},
     "output_type": "execute_result"
    }
   ],
   "source": [
    "# show the table\n",
    "lines.head()"
   ]
  }
 ],
 "metadata": {
  "kernelspec": {
   "display_name": "Python 3",
   "language": "python",
   "name": "python3"
  },
  "language_info": {
   "codemirror_mode": {
    "name": "ipython",
    "version": 3
   },
   "file_extension": ".py",
   "mimetype": "text/x-python",
   "name": "python",
   "nbconvert_exporter": "python",
   "pygments_lexer": "ipython3",
   "version": "3.6.4"
  }
 },
 "nbformat": 4,
 "nbformat_minor": 2
}
