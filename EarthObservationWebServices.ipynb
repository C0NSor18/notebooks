{
 "cells": [
  {
   "cell_type": "code",
   "execution_count": 14,
   "metadata": {
    "collapsed": false
   },
   "outputs": [
    {
     "data": {
      "text/html": [
       "<img src=\"https://publicwiki.deltares.nl/download/attachments/42401809/OpenEarthBuildingBlocks_standards_client_server.png\"/>"
      ],
      "text/plain": [
       "<IPython.core.display.Image object>"
      ]
     },
     "execution_count": 14,
     "metadata": {},
     "output_type": "execute_result"
    }
   ],
   "source": [
    "## Tutorial on how to work with different flavours of web services for Earth Obersvation data\n",
    "# 1. netCDF-CF-OPeNDAP using netcdf4 package\n",
    "# 2. OGC WMS using owslib package\n",
    "# 3. OGC WCS using owslib package\n",
    "# For overview see OpenEarrth.eu > Data\n",
    "from IPython.display import Image\n",
    "Image(url='https://publicwiki.deltares.nl/download/attachments/42401809/OpenEarthBuildingBlocks_standards_client_server.png')"
   ]
  },
  {
   "cell_type": "code",
   "execution_count": 1,
   "metadata": {
    "collapsed": true
   },
   "outputs": [],
   "source": [
    "from netCDF4 import Dataset # includes OPeNDAP library"
   ]
  },
  {
   "cell_type": "code",
   "execution_count": 2,
   "metadata": {
    "collapsed": true
   },
   "outputs": [],
   "source": [
    "# define url and open dataset\n",
    "url = 'http://thredds.jpl.nasa.gov/thredds/dodsC/ncml_aggregation/Chlorophyll/seawifs/aggregate__SEAWIFS_L3_CHLA_MONTHLY_9KM_R.ncml'\n",
    "ds = Dataset(url)"
   ]
  },
  {
   "cell_type": "code",
   "execution_count": 3,
   "metadata": {
    "collapsed": false
   },
   "outputs": [
    {
     "name": "stdout",
     "output_type": "stream",
     "text": [
      "243 days since 1997-01-01\n",
      "1997-09-01 00:00:00\n"
     ]
    }
   ],
   "source": [
    "# get time\n",
    "print(ds.variables['time'][0],ds.variables['time'].units)\n",
    "from netCDF4 import num2date\n",
    "time = num2date(ds.variables['time'][:], units=ds.variables['time'].units)\n",
    "print(time[0])"
   ]
  },
  {
   "cell_type": "code",
   "execution_count": 4,
   "metadata": {
    "collapsed": false
   },
   "outputs": [
    {
     "data": {
      "text/plain": [
       "[-179.95833332999999, 89.958333330000002, 179.95831894, -89.958326139999983]"
      ]
     },
     "execution_count": 4,
     "metadata": {},
     "output_type": "execute_result"
    }
   ],
   "source": [
    "# get full coordinate sticks so be able to make geographical selection\n",
    "lon = ds.variables['lon'][:]\n",
    "lat = ds.variables['lat'][:]\n",
    "[lon[0],lat[0],lon[-1],lat[-1]]"
   ]
  },
  {
   "cell_type": "code",
   "execution_count": 5,
   "metadata": {
    "collapsed": false
   },
   "outputs": [
    {
     "data": {
      "text/plain": [
       "[2040, 360, 2339, 479]"
      ]
     },
     "execution_count": 5,
     "metadata": {},
     "output_type": "execute_result"
    }
   ],
   "source": [
    "# from bbox get netCDF-OPeNDAP subsetting indices\n",
    "import numpy as np\n",
    "bbox = [-10., 50., 15., 60.]\n",
    "ilon = []\n",
    "for i,il  in enumerate(lon):\n",
    "    if (il >= bbox[0]) & (il <= bbox[2]):\n",
    "        ilon.append(i)\n",
    "ilat = []\n",
    "for i,il  in enumerate(lat):\n",
    "    if (il >= bbox[1]) & (il <= bbox[3]):\n",
    "        ilat.append(i)\n",
    "[ilon[0],ilat[0],ilon[-1],ilat[-1]]"
   ]
  },
  {
   "cell_type": "code",
   "execution_count": 6,
   "metadata": {
    "collapsed": false
   },
   "outputs": [],
   "source": [
    "it = 0 # first\n",
    "l3m_data = ds.variables['l3m_data'][it,ilat[0]:ilat[-1],ilon[0]:ilon[-1]]"
   ]
  },
  {
   "cell_type": "code",
   "execution_count": 7,
   "metadata": {
    "collapsed": false
   },
   "outputs": [
    {
     "data": {
      "text/plain": [
       "masked_array(data =\n",
       " [[0.9353600144386292 0.9353600144386292 0.9677000045776367 ..., -- -- --]\n",
       " [1.0851999521255493 1.0851999521255493 0.7522500157356262 ..., -- -- --]\n",
       " [1.1441500186920166 1.0524699687957764 1.0524699687957764 ..., -- -- --]\n",
       " ..., \n",
       " [-- -- -- ..., -- -- --]\n",
       " [-- -- -- ..., -- -- --]\n",
       " [-- -- -- ..., -- -- --]],\n",
       "             mask =\n",
       " [[False False False ...,  True  True  True]\n",
       " [False False False ...,  True  True  True]\n",
       " [False False False ...,  True  True  True]\n",
       " ..., \n",
       " [ True  True  True ...,  True  True  True]\n",
       " [ True  True  True ...,  True  True  True]\n",
       " [ True  True  True ...,  True  True  True]],\n",
       "       fill_value = -32767.0)"
      ]
     },
     "execution_count": 7,
     "metadata": {},
     "output_type": "execute_result"
    }
   ],
   "source": [
    "l3m_data"
   ]
  },
  {
   "cell_type": "code",
   "execution_count": 8,
   "metadata": {
    "collapsed": false
   },
   "outputs": [
    {
     "name": "stdout",
     "output_type": "stream",
     "text": [
      "[0, 10]\n"
     ]
    },
    {
     "data": {
      "text/plain": [
       "[0.28729999, 88.393517]"
      ]
     },
     "execution_count": 8,
     "metadata": {},
     "output_type": "execute_result"
    }
   ],
   "source": [
    "clim = [0, 10]\n",
    "print(clim)\n",
    "[np.nanmin(l3m_data),np.max(l3m_data)]"
   ]
  },
  {
   "cell_type": "code",
   "execution_count": 9,
   "metadata": {
    "collapsed": false
   },
   "outputs": [],
   "source": [
    "# close dataset\n",
    "ds.close()"
   ]
  },
  {
   "cell_type": "code",
   "execution_count": 10,
   "metadata": {
    "collapsed": false
   },
   "outputs": [
    {
     "data": {
      "text/plain": [
       "<matplotlib.text.Text at 0x62cffd0>"
      ]
     },
     "execution_count": 10,
     "metadata": {},
     "output_type": "execute_result"
    },
    {
     "data": {
      "image/png": "[encoded data removed]",
      "text/plain": [
       "<matplotlib.figure.Figure at 0x4c977f0>"
      ]
     },
     "metadata": {},
     "output_type": "display_data"
    }
   ],
   "source": [
    "%matplotlib inline\n",
    "import matplotlib as mpl\n",
    "import matplotlib.pyplot as plt\n",
    "fig=plt.figure()\n",
    "fig.set_figwidth(10)\n",
    "ax = plt.axes([0.1,.8,0.8,0.8])\n",
    "dd = 8\n",
    "h = plt.pcolor(lon[ilon[0]:ilon[-1]],lat[ilat[0]:ilat[-1]],l3m_data)\n",
    "h.set_clim([0, 2])\n",
    "plt.colorbar()\n",
    "plt.title(str(time[it]))"
   ]
  },
  {
   "cell_type": "code",
   "execution_count": null,
   "metadata": {
    "collapsed": true
   },
   "outputs": [],
   "source": []
  }
 ],
 "metadata": {
  "kernelspec": {
   "display_name": "Python 3",
   "language": "python",
   "name": "python3"
  },
  "language_info": {
   "codemirror_mode": {
    "name": "ipython",
    "version": 3
   },
   "file_extension": ".py",
   "mimetype": "text/x-python",
   "name": "python",
   "nbconvert_exporter": "python",
   "pygments_lexer": "ipython3",
   "version": "3.4.3"
  }
 },
 "nbformat": 4,
 "nbformat_minor": 0
}
