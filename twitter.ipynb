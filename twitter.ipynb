{
 "cells": [
  {
   "cell_type": "code",
   "execution_count": 1,
   "metadata": {
    "collapsed": true
   },
   "outputs": [],
   "source": [
    "import json\n",
    "import os.path\n",
    "\n",
    "import tweepy"
   ]
  },
  {
   "cell_type": "code",
   "execution_count": 2,
   "metadata": {
    "collapsed": false
   },
   "outputs": [],
   "source": [
    "# secret keys are stored here\n",
    "keys = json.load(open(os.path.expanduser(\"~/.twitter.json\")))['notebook-example']"
   ]
  },
  {
   "cell_type": "code",
   "execution_count": 3,
   "metadata": {
    "collapsed": false
   },
   "outputs": [
    {
     "name": "stdout",
     "output_type": "stream",
     "text": [
      "#112Nootdorp a2 waddenzee ndp 2631nk directe inzet 15106 ritnr: 18285: Ambulance met gepaste spoed n... https://t.co/46B12yYIP1 #Nootdorp\n",
      "Jorgen Schäfer: Elpy 1.11.0 released https://t.co/rVDvAJeLzi\n",
      "of zondagmiddag. https://t.co/THsHe73OTb\n",
      "Brian Okken: Test Case Design using Given-When-Then from BDD (PT010) https://t.co/Je2dGfnqYH\n",
      "#Pijnacker112 a1 oostlaan par 2641dk : 15146 ritnr: 18149: Ambulance met spoed naar Oostlaan in Pijnacker https://t.co/iWYcIhUuC9 #pijnacker\n",
      "\"Alle losse onderdelen voldeden aan de eisen, maar toch was dat niet voldoende voor een veilig systeem\", schrijft de OVV.\n",
      "RT @Onderzoeksraad: Gemeente Zaanstad benaderde veiligheid brug als technische kwestie en had geen aandacht voor menselijke component #Onde…\n",
      "#Pijnacker112 a2 thurlede par 2642kg directe inzet 15110 ritnr: 18067: Ambulance met gepaste spoed ... https://t.co/vQewpF2x1P #pijnacker\n",
      "PSA: if you have a TWC DVR and are getting no woofer output select Audio Range: Wide in settings #FixedThumpThump ... Yaaay\n",
      "#Pijnacker112 b1 berkelseweg par 2641pl : 15147 ritnr: 18028: Ambulance naar Berkelseweg in Pijnacker https://t.co/TCPq7fvmJZ #pijnacker\n",
      "John Cook: General birthday problem https://t.co/2V9HwTGuFt\n",
      "RT @SoManyHs: Duck typing https://t.co/uAa5HyfAd3\n",
      "#112Nootdorp a2 operatie mannahof ndp 2632ej : 1 15114 ritnr: 17937: Ambulance met gepaste spoed naa... https://t.co/aoMGUYyROg #Nootdorp\n",
      "This is a sad 1995 C-SPAN interview of a broken secdef Bob McNamara.  He only met the host 5 mins before interview.  https://t.co/8EYJGlu56e\n",
      "#Pijnacker112 a1 bosglimmerzoom par 2643ln : reanimatie: ja 15145 ritnr: 17877: Ambulance met spoed... https://t.co/ZpTCA1xWGx #pijnacker\n",
      "Insist on applying work time to more algorithms + crazy shareable ideas. Switching JS libraries yet again isn't going to win a Turing award.\n",
      "It is of course everyone's job to make sure your job is NOT just that. chose well, solve new important problems and globally share results.\n",
      "the world  school pictured was more shiny, part of CS Ed if we do this should inform people a lot if it is just a trade.\n",
      "CRUD websites and associated tech are not CS. They produce jobs but not advancements.\n",
      "value in learning to think logically but I tend to see more value to society in other parts of science and engineering\n"
     ]
    }
   ],
   "source": [
    "auth = tweepy.OAuthHandler(keys['consumer_key'], keys['consumer_secret'])\n",
    "auth.set_access_token(keys['access_key'], keys['access_secret'])\n",
    "\n",
    "api = tweepy.API(auth)\n",
    "\n",
    "public_tweets = api.home_timeline()\n",
    "for tweet in public_tweets:\n",
    "    print(tweet.text)"
   ]
  },
  {
   "cell_type": "code",
   "execution_count": 4,
   "metadata": {
    "collapsed": false
   },
   "outputs": [],
   "source": [
    "from tweepy import Stream\n",
    "from tweepy.streaming import StreamListener"
   ]
  },
  {
   "cell_type": "code",
   "execution_count": 27,
   "metadata": {
    "collapsed": false
   },
   "outputs": [
    {
     "name": "stderr",
     "output_type": "stream",
     "text": [
      "INFO:notebook:test\n",
      "INFO:notebook:new data: {\"created_at\":\"Sun Jan 31 14:30:54 +0000 2016\",\"id\":693803647457714176,\"id_str\":\"693803647457714176\",\"text\":\"@mathieuvdpoel blufpoker of kan hij niet beter vandaag. #wkcyclo\",\"source\":\"\\u003ca href=\\\"http:\\/\\/twitter.com\\/download\\/iphone\\\" rel=\\\"nofollow\\\"\\u003eTwitter for iPhone\\u003c\\/a\\u003e\",\"truncated\":false,\"in_reply_to_status_id\":null,\"in_reply_to_status_id_str\":null,\"in_reply_to_user_id\":146526575,\"in_reply_to_user_id_str\":\"146526575\",\"in_reply_to_screen_name\":\"mathieuvdpoel\",\"user\":{\"id\":351058277,\"id_str\":\"351058277\",\"name\":\"Bas\",\"screen_name\":\"baswalderveen\",\"location\":\"harmelen\",\"url\":\"http:\\/\\/www.walderveen.nl\",\"description\":\"importer fruit from all over the world (http:\\/\\/twiends.com\\/baswalderveen)\",\"protected\":false,\"verified\":false,\"followers_count\":294,\"friends_count\":816,\"listed_count\":5,\"favourites_count\":136,\"statuses_count\":7460,\"created_at\":\"Mon Aug 08 18:38:15 +0000 2011\",\"utc_offset\":null,\"time_zone\":null,\"geo_enabled\":true,\"lang\":\"nl\",\"contributors_enabled\":false,\"is_translator\":false,\"profile_background_color\":\"C0DEED\",\"profile_background_image_url\":\"http:\\/\\/abs.twimg.com\\/images\\/themes\\/theme1\\/bg.png\",\"profile_background_image_url_https\":\"https:\\/\\/abs.twimg.com\\/images\\/themes\\/theme1\\/bg.png\",\"profile_background_tile\":false,\"profile_link_color\":\"0084B4\",\"profile_sidebar_border_color\":\"C0DEED\",\"profile_sidebar_fill_color\":\"DDEEF6\",\"profile_text_color\":\"333333\",\"profile_use_background_image\":true,\"profile_image_url\":\"http:\\/\\/pbs.twimg.com\\/profile_images\\/588920034862309376\\/zJxcUgQn_normal.jpg\",\"profile_image_url_https\":\"https:\\/\\/pbs.twimg.com\\/profile_images\\/588920034862309376\\/zJxcUgQn_normal.jpg\",\"profile_banner_url\":\"https:\\/\\/pbs.twimg.com\\/profile_banners\\/351058277\\/1415733776\",\"default_profile\":true,\"default_profile_image\":false,\"following\":null,\"follow_request_sent\":null,\"notifications\":null},\"geo\":null,\"coordinates\":null,\"place\":{\"id\":\"448875d6779d3817\",\"url\":\"https:\\/\\/api.twitter.com\\/1.1\\/geo\\/id\\/448875d6779d3817.json\",\"place_type\":\"city\",\"name\":\"Woerden\",\"full_name\":\"Woerden, Utrecht\",\"country_code\":\"NL\",\"country\":\"Nederland\",\"bounding_box\":{\"type\":\"Polygon\",\"coordinates\":[[[4.791969,52.064967],[4.791969,52.162088],[5.004906,52.162088],[5.004906,52.064967]]]},\"attributes\":{}},\"contributors\":null,\"is_quote_status\":false,\"retweet_count\":0,\"favorite_count\":0,\"entities\":{\"hashtags\":[{\"text\":\"wkcyclo\",\"indices\":[56,64]}],\"urls\":[],\"user_mentions\":[{\"screen_name\":\"mathieuvdpoel\",\"name\":\"Mathieuvanderpoel\",\"id\":146526575,\"id_str\":\"146526575\",\"indices\":[0,14]}],\"symbols\":[]},\"favorited\":false,\"retweeted\":false,\"filter_level\":\"low\",\"lang\":\"nl\",\"timestamp_ms\":\"1454250654459\"}\n",
      "\n",
      "INFO:notebook:new data: {\"created_at\":\"Sun Jan 31 14:30:55 +0000 2016\",\"id\":693803650871869440,\"id_str\":\"693803650871869440\",\"text\":\"https:\\/\\/t.co\\/ypHkhqZ0td\",\"source\":\"\\u003ca href=\\\"http:\\/\\/twitter.com\\/download\\/iphone\\\" rel=\\\"nofollow\\\"\\u003eTwitter for iPhone\\u003c\\/a\\u003e\",\"truncated\":false,\"in_reply_to_status_id\":null,\"in_reply_to_status_id_str\":null,\"in_reply_to_user_id\":null,\"in_reply_to_user_id_str\":null,\"in_reply_to_screen_name\":null,\"user\":{\"id\":2946659717,\"id_str\":\"2946659717\",\"name\":\"Noa\",\"screen_name\":\"urnotjasha\",\"location\":\"1\\/16 #weknowbestsquad\",\"url\":null,\"description\":\"instagram: NoaVerhoeckx ~ snapchat: itsnoaa\",\"protected\":false,\"verified\":false,\"followers_count\":866,\"friends_count\":525,\"listed_count\":4,\"favourites_count\":4536,\"statuses_count\":9749,\"created_at\":\"Sun Dec 28 23:08:07 +0000 2014\",\"utc_offset\":-28800,\"time_zone\":\"Pacific Time (US & Canada)\",\"geo_enabled\":true,\"lang\":\"nl\",\"contributors_enabled\":false,\"is_translator\":false,\"profile_background_color\":\"C0DEED\",\"profile_background_image_url\":\"http:\\/\\/abs.twimg.com\\/images\\/themes\\/theme1\\/bg.png\",\"profile_background_image_url_https\":\"https:\\/\\/abs.twimg.com\\/images\\/themes\\/theme1\\/bg.png\",\"profile_background_tile\":false,\"profile_link_color\":\"0084B4\",\"profile_sidebar_border_color\":\"C0DEED\",\"profile_sidebar_fill_color\":\"DDEEF6\",\"profile_text_color\":\"333333\",\"profile_use_background_image\":true,\"profile_image_url\":\"http:\\/\\/pbs.twimg.com\\/profile_images\\/693450170973999105\\/A70HUlB__normal.jpg\",\"profile_image_url_https\":\"https:\\/\\/pbs.twimg.com\\/profile_images\\/693450170973999105\\/A70HUlB__normal.jpg\",\"profile_banner_url\":\"https:\\/\\/pbs.twimg.com\\/profile_banners\\/2946659717\\/1454180353\",\"default_profile\":true,\"default_profile_image\":false,\"following\":null,\"follow_request_sent\":null,\"notifications\":null},\"geo\":null,\"coordinates\":null,\"place\":{\"id\":\"2a4f0d77901f50b7\",\"url\":\"https:\\/\\/api.twitter.com\\/1.1\\/geo\\/id\\/2a4f0d77901f50b7.json\",\"place_type\":\"city\",\"name\":\"Lansingerland\",\"full_name\":\"Lansingerland, Zuid-Holland\",\"country_code\":\"NL\",\"country\":\"Nederland\",\"bounding_box\":{\"type\":\"Polygon\",\"coordinates\":[[[4.423773,51.960342],[4.423773,52.061812],[4.565221,52.061812],[4.565221,51.960342]]]},\"attributes\":{}},\"contributors\":null,\"is_quote_status\":false,\"retweet_count\":0,\"favorite_count\":0,\"entities\":{\"hashtags\":[],\"urls\":[],\"user_mentions\":[],\"symbols\":[],\"media\":[{\"id\":693803631569715200,\"id_str\":\"693803631569715200\",\"indices\":[0,23],\"media_url\":\"http:\\/\\/pbs.twimg.com\\/media\\/CaDiuhuWwAAUZWM.jpg\",\"media_url_https\":\"https:\\/\\/pbs.twimg.com\\/media\\/CaDiuhuWwAAUZWM.jpg\",\"url\":\"https:\\/\\/t.co\\/ypHkhqZ0td\",\"display_url\":\"pic.twitter.com\\/ypHkhqZ0td\",\"expanded_url\":\"http:\\/\\/twitter.com\\/urnotjasha\\/status\\/693803650871869440\\/photo\\/1\",\"type\":\"photo\",\"sizes\":{\"medium\":{\"w\":575,\"h\":1024,\"resize\":\"fit\"},\"thumb\":{\"w\":150,\"h\":150,\"resize\":\"crop\"},\"small\":{\"w\":340,\"h\":605,\"resize\":\"fit\"},\"large\":{\"w\":575,\"h\":1024,\"resize\":\"fit\"}}}]},\"extended_entities\":{\"media\":[{\"id\":693803631569715200,\"id_str\":\"693803631569715200\",\"indices\":[0,23],\"media_url\":\"http:\\/\\/pbs.twimg.com\\/media\\/CaDiuhuWwAAUZWM.jpg\",\"media_url_https\":\"https:\\/\\/pbs.twimg.com\\/media\\/CaDiuhuWwAAUZWM.jpg\",\"url\":\"https:\\/\\/t.co\\/ypHkhqZ0td\",\"display_url\":\"pic.twitter.com\\/ypHkhqZ0td\",\"expanded_url\":\"http:\\/\\/twitter.com\\/urnotjasha\\/status\\/693803650871869440\\/photo\\/1\",\"type\":\"photo\",\"sizes\":{\"medium\":{\"w\":575,\"h\":1024,\"resize\":\"fit\"},\"thumb\":{\"w\":150,\"h\":150,\"resize\":\"crop\"},\"small\":{\"w\":340,\"h\":605,\"resize\":\"fit\"},\"large\":{\"w\":575,\"h\":1024,\"resize\":\"fit\"}}},{\"id\":693803631607443458,\"id_str\":\"693803631607443458\",\"indices\":[0,23],\"media_url\":\"http:\\/\\/pbs.twimg.com\\/media\\/CaDiuh3WcAInNPf.jpg\",\"media_url_https\":\"https:\\/\\/pbs.twimg.com\\/media\\/CaDiuh3WcAInNPf.jpg\",\"url\":\"https:\\/\\/t.co\\/ypHkhqZ0td\",\"display_url\":\"pic.twitter.com\\/ypHkhqZ0td\",\"expanded_url\":\"http:\\/\\/twitter.com\\/urnotjasha\\/status\\/693803650871869440\\/photo\\/1\",\"type\":\"photo\",\"sizes\":{\"medium\":{\"w\":575,\"h\":1024,\"resize\":\"fit\"},\"thumb\":{\"w\":150,\"h\":150,\"resize\":\"crop\"},\"small\":{\"w\":340,\"h\":605,\"resize\":\"fit\"},\"large\":{\"w\":575,\"h\":1024,\"resize\":\"fit\"}}}]},\"favorited\":false,\"retweeted\":false,\"possibly_sensitive\":false,\"filter_level\":\"low\",\"lang\":\"und\",\"timestamp_ms\":\"1454250655273\"}\n",
      "\n",
      "INFO:notebook:new data: {\"created_at\":\"Sun Jan 31 14:30:58 +0000 2016\",\"id\":693803664771825665,\"id_str\":\"693803664771825665\",\"text\":\"I'm at Station Rotterdam Centraal in Rotterdam, Zuid-Holland https:\\/\\/t.co\\/Nn86DTUjQh\",\"source\":\"\\u003ca href=\\\"http:\\/\\/foursquare.com\\\" rel=\\\"nofollow\\\"\\u003eFoursquare\\u003c\\/a\\u003e\",\"truncated\":false,\"in_reply_to_status_id\":null,\"in_reply_to_status_id_str\":null,\"in_reply_to_user_id\":null,\"in_reply_to_user_id_str\":null,\"in_reply_to_screen_name\":null,\"user\":{\"id\":454356387,\"id_str\":\"454356387\",\"name\":\"Yori\",\"screen_name\":\"Kabbelendbeekje\",\"location\":\"Spijkenisse\",\"url\":\"https:\\/\\/www.facebook.com\\/yori.van.beek\",\"description\":\"22 jaar | Doet iets met boeken | Houdt zo van koffie dat hij er zijn werk van heeft gemaakt | Chaoot | snap: kabbelendbeekje | \\u2764\\ufe0f\",\"protected\":false,\"verified\":false,\"followers_count\":372,\"friends_count\":564,\"listed_count\":12,\"favourites_count\":2872,\"statuses_count\":21112,\"created_at\":\"Tue Jan 03 22:19:41 +0000 2012\",\"utc_offset\":3600,\"time_zone\":\"Amsterdam\",\"geo_enabled\":true,\"lang\":\"nl\",\"contributors_enabled\":false,\"is_translator\":false,\"profile_background_color\":\"C0DEED\",\"profile_background_image_url\":\"http:\\/\\/abs.twimg.com\\/images\\/themes\\/theme1\\/bg.png\",\"profile_background_image_url_https\":\"https:\\/\\/abs.twimg.com\\/images\\/themes\\/theme1\\/bg.png\",\"profile_background_tile\":false,\"profile_link_color\":\"DD2E44\",\"profile_sidebar_border_color\":\"000000\",\"profile_sidebar_fill_color\":\"DDEEF6\",\"profile_text_color\":\"333333\",\"profile_use_background_image\":true,\"profile_image_url\":\"http:\\/\\/pbs.twimg.com\\/profile_images\\/664429702610870272\\/DGr67rQt_normal.jpg\",\"profile_image_url_https\":\"https:\\/\\/pbs.twimg.com\\/profile_images\\/664429702610870272\\/DGr67rQt_normal.jpg\",\"profile_banner_url\":\"https:\\/\\/pbs.twimg.com\\/profile_banners\\/454356387\\/1433239814\",\"default_profile\":false,\"default_profile_image\":false,\"following\":null,\"follow_request_sent\":null,\"notifications\":null},\"geo\":{\"type\":\"Point\",\"coordinates\":[51.92508148,4.46949363]},\"coordinates\":{\"type\":\"Point\",\"coordinates\":[4.46949363,51.92508148]},\"place\":{\"id\":\"ea0a61fa0c646676\",\"url\":\"https:\\/\\/api.twitter.com\\/1.1\\/geo\\/id\\/ea0a61fa0c646676.json\",\"place_type\":\"city\",\"name\":\"Rotterdam\",\"full_name\":\"Rotterdam, Zuid-Holland\",\"country_code\":\"NL\",\"country\":\"Nederland\",\"bounding_box\":{\"type\":\"Polygon\",\"coordinates\":[[[3.941836,51.842113],[3.941836,52.006802],[4.601379,52.006802],[4.601379,51.842113]]]},\"attributes\":{}},\"contributors\":null,\"is_quote_status\":false,\"retweet_count\":0,\"favorite_count\":0,\"entities\":{\"hashtags\":[],\"urls\":[{\"url\":\"https:\\/\\/t.co\\/Nn86DTUjQh\",\"expanded_url\":\"https:\\/\\/www.swarmapp.com\\/c\\/3Ye0dH91XI7\",\"display_url\":\"swarmapp.com\\/c\\/3Ye0dH91XI7\",\"indices\":[61,84]}],\"user_mentions\":[],\"symbols\":[]},\"favorited\":false,\"retweeted\":false,\"possibly_sensitive\":false,\"filter_level\":\"low\",\"lang\":\"nl\",\"timestamp_ms\":\"1454250658587\"}\n",
      "\n",
      "INFO:notebook:new data: {\"created_at\":\"Sun Jan 31 14:31:04 +0000 2016\",\"id\":693803689602080768,\"id_str\":\"693803689602080768\",\"text\":\"@FuzionDroid  \\nI can't record it when I take a picture it crashes my recorder but it works \\n https:\\/\\/t.co\\/cHGxMQ7TMs https:\\/\\/t.co\\/3r37vAMRPD\",\"source\":\"\\u003ca href=\\\"http:\\/\\/twitter.com\\/download\\/android\\\" rel=\\\"nofollow\\\"\\u003eTwitter for Android\\u003c\\/a\\u003e\",\"truncated\":false,\"in_reply_to_status_id\":null,\"in_reply_to_status_id_str\":null,\"in_reply_to_user_id\":1312244084,\"in_reply_to_user_id_str\":\"1312244084\",\"in_reply_to_screen_name\":\"FuzionDroid\",\"user\":{\"id\":3688467803,\"id_str\":\"3688467803\",\"name\":\"THE MINECRAFTER!!!!\",\"screen_name\":\"THE_MNECRAFTER\",\"location\":\"Pijnacker\",\"url\":\"http:\\/\\/www.mobcrush.com\\/THE_MINECRAFTER\",\"description\":\"Check my YouTube channel\\nI make good video's ofminecraft  http:\\/\\/www.youtube.com\\/channel\\/UCUCNg\\u2026\",\"protected\":false,\"verified\":false,\"followers_count\":52,\"friends_count\":137,\"listed_count\":1,\"favourites_count\":599,\"statuses_count\":1032,\"created_at\":\"Thu Sep 17 18:47:14 +0000 2015\",\"utc_offset\":null,\"time_zone\":null,\"geo_enabled\":true,\"lang\":\"en\",\"contributors_enabled\":false,\"is_translator\":false,\"profile_background_color\":\"C0DEED\",\"profile_background_image_url\":\"http:\\/\\/abs.twimg.com\\/images\\/themes\\/theme1\\/bg.png\",\"profile_background_image_url_https\":\"https:\\/\\/abs.twimg.com\\/images\\/themes\\/theme1\\/bg.png\",\"profile_background_tile\":false,\"profile_link_color\":\"0084B4\",\"profile_sidebar_border_color\":\"C0DEED\",\"profile_sidebar_fill_color\":\"DDEEF6\",\"profile_text_color\":\"333333\",\"profile_use_background_image\":true,\"profile_image_url\":\"http:\\/\\/pbs.twimg.com\\/profile_images\\/691596312890970116\\/bbR0EVsY_normal.jpg\",\"profile_image_url_https\":\"https:\\/\\/pbs.twimg.com\\/profile_images\\/691596312890970116\\/bbR0EVsY_normal.jpg\",\"profile_banner_url\":\"https:\\/\\/pbs.twimg.com\\/profile_banners\\/3688467803\\/1453224976\",\"default_profile\":true,\"default_profile_image\":false,\"following\":null,\"follow_request_sent\":null,\"notifications\":null},\"geo\":null,\"coordinates\":null,\"place\":{\"id\":\"0450a494d365cc81\",\"url\":\"https:\\/\\/api.twitter.com\\/1.1\\/geo\\/id\\/0450a494d365cc81.json\",\"place_type\":\"city\",\"name\":\"Pijnacker-Nootdorp\",\"full_name\":\"Pijnacker-Nootdorp, Zuid-Holland\",\"country_code\":\"NL\",\"country\":\"Nederland\",\"bounding_box\":{\"type\":\"Polygon\",\"coordinates\":[[[4.372500,51.968201],[4.372500,52.053805],[4.476657,52.053805],[4.476657,51.968201]]]},\"attributes\":{}},\"contributors\":null,\"is_quote_status\":false,\"retweet_count\":0,\"favorite_count\":0,\"entities\":{\"hashtags\":[],\"urls\":[{\"url\":\"https:\\/\\/t.co\\/cHGxMQ7TMs\",\"expanded_url\":\"https:\\/\\/youtu.be\\/ZbG88SyWits\",\"display_url\":\"youtu.be\\/ZbG88SyWits\",\"indices\":[93,116]}],\"user_mentions\":[{\"screen_name\":\"FuzionDroid\",\"name\":\"FuzionDroid\",\"id\":1312244084,\"id_str\":\"1312244084\",\"indices\":[0,12]}],\"symbols\":[],\"media\":[{\"id\":693803659449208832,\"id_str\":\"693803659449208832\",\"indices\":[117,140],\"media_url\":\"http:\\/\\/pbs.twimg.com\\/media\\/CaDiwJlWEAAD7Pc.jpg\",\"media_url_https\":\"https:\\/\\/pbs.twimg.com\\/media\\/CaDiwJlWEAAD7Pc.jpg\",\"url\":\"https:\\/\\/t.co\\/3r37vAMRPD\",\"display_url\":\"pic.twitter.com\\/3r37vAMRPD\",\"expanded_url\":\"http:\\/\\/twitter.com\\/THE_MNECRAFTER\\/status\\/693803689602080768\\/photo\\/1\",\"type\":\"photo\",\"sizes\":{\"thumb\":{\"w\":150,\"h\":150,\"resize\":\"crop\"},\"small\":{\"w\":340,\"h\":191,\"resize\":\"fit\"},\"medium\":{\"w\":600,\"h\":337,\"resize\":\"fit\"},\"large\":{\"w\":1024,\"h\":576,\"resize\":\"fit\"}}}]},\"extended_entities\":{\"media\":[{\"id\":693803659449208832,\"id_str\":\"693803659449208832\",\"indices\":[117,140],\"media_url\":\"http:\\/\\/pbs.twimg.com\\/media\\/CaDiwJlWEAAD7Pc.jpg\",\"media_url_https\":\"https:\\/\\/pbs.twimg.com\\/media\\/CaDiwJlWEAAD7Pc.jpg\",\"url\":\"https:\\/\\/t.co\\/3r37vAMRPD\",\"display_url\":\"pic.twitter.com\\/3r37vAMRPD\",\"expanded_url\":\"http:\\/\\/twitter.com\\/THE_MNECRAFTER\\/status\\/693803689602080768\\/photo\\/1\",\"type\":\"photo\",\"sizes\":{\"thumb\":{\"w\":150,\"h\":150,\"resize\":\"crop\"},\"small\":{\"w\":340,\"h\":191,\"resize\":\"fit\"},\"medium\":{\"w\":600,\"h\":337,\"resize\":\"fit\"},\"large\":{\"w\":1024,\"h\":576,\"resize\":\"fit\"}}},{\"id\":693803676167753728,\"id_str\":\"693803676167753728\",\"indices\":[117,140],\"media_url\":\"http:\\/\\/pbs.twimg.com\\/media\\/CaDixH3W0AAUIDT.jpg\",\"media_url_https\":\"https:\\/\\/pbs.twimg.com\\/media\\/CaDixH3W0AAUIDT.jpg\",\"url\":\"https:\\/\\/t.co\\/3r37vAMRPD\",\"display_url\":\"pic.twitter.com\\/3r37vAMRPD\",\"expanded_url\":\"http:\\/\\/twitter.com\\/THE_MNECRAFTER\\/status\\/693803689602080768\\/photo\\/1\",\"type\":\"photo\",\"sizes\":{\"thumb\":{\"w\":150,\"h\":150,\"resize\":\"crop\"},\"small\":{\"w\":340,\"h\":191,\"resize\":\"fit\"},\"medium\":{\"w\":600,\"h\":337,\"resize\":\"fit\"},\"large\":{\"w\":1024,\"h\":576,\"resize\":\"fit\"}}}]},\"favorited\":false,\"retweeted\":false,\"possibly_sensitive\":false,\"filter_level\":\"low\",\"lang\":\"en\",\"timestamp_ms\":\"1454250664507\"}\n",
      "\n",
      "INFO:notebook:new data: {\"created_at\":\"Sun Jan 31 14:31:06 +0000 2016\",\"id\":693803698288529408,\"id_str\":\"693803698288529408\",\"text\":\"Great organization great movies. @IFFR\",\"source\":\"\\u003ca href=\\\"http:\\/\\/twitter.com\\/download\\/iphone\\\" rel=\\\"nofollow\\\"\\u003eTwitter for iPhone\\u003c\\/a\\u003e\",\"truncated\":false,\"in_reply_to_status_id\":null,\"in_reply_to_status_id_str\":null,\"in_reply_to_user_id\":null,\"in_reply_to_user_id_str\":null,\"in_reply_to_screen_name\":null,\"user\":{\"id\":25837323,\"id_str\":\"25837323\",\"name\":\"Maikel Lourenssen\",\"screen_name\":\"lourenssenm\",\"location\":\"010\",\"url\":\"http:\\/\\/www.lourenssen.net\",\"description\":null,\"protected\":false,\"verified\":false,\"followers_count\":47,\"friends_count\":67,\"listed_count\":1,\"favourites_count\":5,\"statuses_count\":186,\"created_at\":\"Sun Mar 22 16:17:51 +0000 2009\",\"utc_offset\":3600,\"time_zone\":\"Amsterdam\",\"geo_enabled\":true,\"lang\":\"en\",\"contributors_enabled\":false,\"is_translator\":false,\"profile_background_color\":\"8B542B\",\"profile_background_image_url\":\"http:\\/\\/abs.twimg.com\\/images\\/themes\\/theme8\\/bg.gif\",\"profile_background_image_url_https\":\"https:\\/\\/abs.twimg.com\\/images\\/themes\\/theme8\\/bg.gif\",\"profile_background_tile\":false,\"profile_link_color\":\"9D582E\",\"profile_sidebar_border_color\":\"D9B17E\",\"profile_sidebar_fill_color\":\"EADEAA\",\"profile_text_color\":\"333333\",\"profile_use_background_image\":true,\"profile_image_url\":\"http:\\/\\/pbs.twimg.com\\/profile_images\\/378800000294389710\\/c0321256494dbab01af640de08c035a6_normal.png\",\"profile_image_url_https\":\"https:\\/\\/pbs.twimg.com\\/profile_images\\/378800000294389710\\/c0321256494dbab01af640de08c035a6_normal.png\",\"profile_banner_url\":\"https:\\/\\/pbs.twimg.com\\/profile_banners\\/25837323\\/1376470666\",\"default_profile\":false,\"default_profile_image\":false,\"following\":null,\"follow_request_sent\":null,\"notifications\":null},\"geo\":null,\"coordinates\":null,\"place\":{\"id\":\"ea0a61fa0c646676\",\"url\":\"https:\\/\\/api.twitter.com\\/1.1\\/geo\\/id\\/ea0a61fa0c646676.json\",\"place_type\":\"city\",\"name\":\"Rotterdam\",\"full_name\":\"Rotterdam, South Holland\",\"country_code\":\"NL\",\"country\":\"Nederland\",\"bounding_box\":{\"type\":\"Polygon\",\"coordinates\":[[[3.941836,51.842113],[3.941836,52.006802],[4.601379,52.006802],[4.601379,51.842113]]]},\"attributes\":{}},\"contributors\":null,\"is_quote_status\":false,\"retweet_count\":0,\"favorite_count\":0,\"entities\":{\"hashtags\":[],\"urls\":[],\"user_mentions\":[{\"screen_name\":\"IFFR\",\"name\":\"IFFR\",\"id\":15334634,\"id_str\":\"15334634\",\"indices\":[33,38]}],\"symbols\":[]},\"favorited\":false,\"retweeted\":false,\"filter_level\":\"low\",\"lang\":\"en\",\"timestamp_ms\":\"1454250666578\"}\n",
      "\n",
      "INFO:notebook:new data: {\"created_at\":\"Sun Jan 31 14:31:09 +0000 2016\",\"id\":693803712536408065,\"id_str\":\"693803712536408065\",\"text\":\"Amsterdam\\u26ea\\ufe0f @ Dam Square https:\\/\\/t.co\\/id3AljybqA\",\"source\":\"\\u003ca href=\\\"http:\\/\\/instagram.com\\\" rel=\\\"nofollow\\\"\\u003eInstagram\\u003c\\/a\\u003e\",\"truncated\":false,\"in_reply_to_status_id\":null,\"in_reply_to_status_id_str\":null,\"in_reply_to_user_id\":null,\"in_reply_to_user_id_str\":null,\"in_reply_to_screen_name\":null,\"user\":{\"id\":178681704,\"id_str\":\"178681704\",\"name\":\"Spencer Reid\",\"screen_name\":\"georgialochhead\",\"location\":null,\"url\":null,\"description\":\"Pobodys Nerfect\",\"protected\":false,\"verified\":false,\"followers_count\":571,\"friends_count\":391,\"listed_count\":2,\"favourites_count\":5081,\"statuses_count\":22554,\"created_at\":\"Sun Aug 15 11:49:58 +0000 2010\",\"utc_offset\":null,\"time_zone\":null,\"geo_enabled\":true,\"lang\":\"en\",\"contributors_enabled\":false,\"is_translator\":false,\"profile_background_color\":\"EDECE9\",\"profile_background_image_url\":\"http:\\/\\/pbs.twimg.com\\/profile_background_images\\/557950948115357696\\/eNMMLOR4.jpeg\",\"profile_background_image_url_https\":\"https:\\/\\/pbs.twimg.com\\/profile_background_images\\/557950948115357696\\/eNMMLOR4.jpeg\",\"profile_background_tile\":true,\"profile_link_color\":\"088253\",\"profile_sidebar_border_color\":\"FFFFFF\",\"profile_sidebar_fill_color\":\"DDEEF6\",\"profile_text_color\":\"333333\",\"profile_use_background_image\":true,\"profile_image_url\":\"http:\\/\\/pbs.twimg.com\\/profile_images\\/646486605285433344\\/qrN8pweF_normal.jpg\",\"profile_image_url_https\":\"https:\\/\\/pbs.twimg.com\\/profile_images\\/646486605285433344\\/qrN8pweF_normal.jpg\",\"profile_banner_url\":\"https:\\/\\/pbs.twimg.com\\/profile_banners\\/178681704\\/1453684646\",\"default_profile\":false,\"default_profile_image\":false,\"following\":null,\"follow_request_sent\":null,\"notifications\":null},\"geo\":{\"type\":\"Point\",\"coordinates\":[52.373,4.893]},\"coordinates\":{\"type\":\"Point\",\"coordinates\":[4.893,52.373]},\"place\":{\"id\":\"99cdab25eddd6bce\",\"url\":\"https:\\/\\/api.twitter.com\\/1.1\\/geo\\/id\\/99cdab25eddd6bce.json\",\"place_type\":\"city\",\"name\":\"Amsterdam\",\"full_name\":\"Amsterdam, North Holland\",\"country_code\":\"NL\",\"country\":\"Nederland\",\"bounding_box\":{\"type\":\"Polygon\",\"coordinates\":[[[4.728900,52.278227],[4.728900,52.431229],[5.079207,52.431229],[5.079207,52.278227]]]},\"attributes\":{}},\"contributors\":null,\"is_quote_status\":false,\"retweet_count\":0,\"favorite_count\":0,\"entities\":{\"hashtags\":[],\"urls\":[{\"url\":\"https:\\/\\/t.co\\/id3AljybqA\",\"expanded_url\":\"https:\\/\\/www.instagram.com\\/p\\/BBNPQjhpxkH\\/\",\"display_url\":\"instagram.com\\/p\\/BBNPQjhpxkH\\/\",\"indices\":[25,48]}],\"user_mentions\":[],\"symbols\":[]},\"favorited\":false,\"retweeted\":false,\"possibly_sensitive\":false,\"filter_level\":\"low\",\"lang\":\"en\",\"timestamp_ms\":\"1454250669975\"}\n",
      "\n",
      "INFO:notebook:We have enough data\n"
     ]
    }
   ],
   "source": [
    "import time\n",
    "import logging\n",
    "logger = logging.getLogger('notebook')\n",
    "logger.setLevel(logging.INFO)\n",
    "logger.info('test')\n",
    "\n",
    "class MyListener(StreamListener):\n",
    "    def __init__(self, *args, **kwargs):\n",
    "        # sleep 1 minute if a rate limit is received\n",
    "        # https://dev.twitter.com/streaming/overview/connecting      \n",
    "        self.tweets = []\n",
    "    def on_data(self, data):\n",
    "        logger.info('new data: %s', data)\n",
    "        self.tweets.append(json.loads(data))\n",
    "        if len(self.tweets) > 5:\n",
    "            logger.info('We have enough data')\n",
    "            return False\n",
    "        return True\n",
    " \n",
    "    def on_error(self, status):\n",
    "        if status == 420:\n",
    "            logger.info('got 420 error')\n",
    "            return False\n",
    "        return True\n",
    " \n",
    "twitter_stream = Stream(auth, MyListener())\n",
    "# tweets in the Netherlands\n",
    "twitter_stream.filter(locations=[2,52,5,55])"
   ]
  },
  {
   "cell_type": "code",
   "execution_count": 48,
   "metadata": {
    "collapsed": false
   },
   "outputs": [],
   "source": [
    "tweets = []\n",
    "import copy\n",
    "for tweet in twitter_stream.listener.tweets:\n",
    "    properties = tweet\n",
    "    properties['oembed'] = api.get_oembed(id=tweet['id'], hide_media=False)\n",
    "    geom = copy.copy(tweet['place']['bounding_box'])\n",
    "    feature = geojson.Feature(id=tweet['id'], properties=properties, geometry=geom)\n",
    "    \n",
    "    tweets.append(feature)\n",
    "json.dump(tweets, open('tweets.json', 'w'), indent=2)"
   ]
  },
  {
   "cell_type": "code",
   "execution_count": 44,
   "metadata": {
    "collapsed": false
   },
   "outputs": [],
   "source": [
    "a = api.get_oembed(693803689602080768, hide_media=True)['html']\n",
    "b = api.get_oembed(693803689602080768, hide_media=False)['html']"
   ]
  },
  {
   "cell_type": "code",
   "execution_count": 45,
   "metadata": {
    "collapsed": false
   },
   "outputs": [
    {
     "data": {
      "text/plain": [
       "('<blockquote class=\"twitter-tweet\" data-cards=\"hidden\"><p lang=\"en\" dir=\"ltr\"><a href=\"https://twitter.com/FuzionDroid\">@FuzionDroid</a>  <br>I can&#39;t record it when I take a picture it crashes my recorder but it works <br> <a href=\"https://t.co/cHGxMQ7TMs\">https://t.co/cHGxMQ7TMs</a> <a href=\"https://t.co/3r37vAMRPD\">pic.twitter.com/3r37vAMRPD</a></p>&mdash; LukeSkywalkerYT (@THE_MNECRAFTER) <a href=\"https://twitter.com/THE_MNECRAFTER/status/693803689602080768\">January 31, 2016</a></blockquote>\\n<script async src=\"//platform.twitter.com/widgets.js\" charset=\"utf-8\"></script>',\n",
       " '<blockquote class=\"twitter-tweet\"><p lang=\"en\" dir=\"ltr\"><a href=\"https://twitter.com/FuzionDroid\">@FuzionDroid</a>  <br>I can&#39;t record it when I take a picture it crashes my recorder but it works <br> <a href=\"https://t.co/cHGxMQ7TMs\">https://t.co/cHGxMQ7TMs</a> <a href=\"https://t.co/3r37vAMRPD\">pic.twitter.com/3r37vAMRPD</a></p>&mdash; LukeSkywalkerYT (@THE_MNECRAFTER) <a href=\"https://twitter.com/THE_MNECRAFTER/status/693803689602080768\">January 31, 2016</a></blockquote>\\n<script async src=\"//platform.twitter.com/widgets.js\" charset=\"utf-8\"></script>')"
      ]
     },
     "execution_count": 45,
     "metadata": {},
     "output_type": "execute_result"
    }
   ],
   "source": [
    "a,b"
   ]
  },
  {
   "cell_type": "code",
   "execution_count": 47,
   "metadata": {
    "collapsed": true
   },
   "outputs": [],
   "source": [
    "a = '''<blockquote class=\"twitter-tweet\" lang=\"en\"><p lang=\"und\" dir=\"ltr\"><a href=\"https://t.co/ypHkhqZ0td\">pic.twitter.com/ypHkhqZ0td</a></p>&mdash; Noa (@urnotjasha) <a href=\"https://twitter.com/urnotjasha/status/693803650871869440\">January 31, 2016</a></blockquote>\n",
    "<script async src=\"//platform.twitter.com/widgets.js\" charset=\"utf-8\"></script>'''\n",
    "b = '''<blockquote class=\"twitter-tweet\" data-cards=\"hidden\" lang=\"en\"><p lang=\"und\" dir=\"ltr\"><a href=\"https://t.co/ypHkhqZ0td\">pic.twitter.com/ypHkhqZ0td</a></p>&mdash; Noa (@urnotjasha) <a href=\"https://twitter.com/urnotjasha/status/693803650871869440\">January 31, 2016</a></blockquote>\n",
    "<script async src=\"//platform.twitter.com/widgets.js\" charset=\"utf-8\"></script>'''"
   ]
  },
  {
   "cell_type": "code",
   "execution_count": null,
   "metadata": {
    "collapsed": true
   },
   "outputs": [],
   "source": []
  }
 ],
 "metadata": {
  "kernelspec": {
   "display_name": "Python 3",
   "language": "python",
   "name": "python3"
  },
  "language_info": {
   "codemirror_mode": {
    "name": "ipython",
    "version": 3
   },
   "file_extension": ".py",
   "mimetype": "text/x-python",
   "name": "python",
   "nbconvert_exporter": "python",
   "pygments_lexer": "ipython3",
   "version": "3.5.1"
  }
 },
 "nbformat": 4,
 "nbformat_minor": 0
}
