{
 "cells": [
  {
   "cell_type": "code",
   "execution_count": 1,
   "metadata": {},
   "outputs": [],
   "source": [
    "import json\n",
    "import os.path\n",
    "import time\n",
    "import logging\n",
    "import datetime\n",
    "\n",
    "import requests\n",
    "import geojson\n",
    "import tweepy\n",
    "\n",
    "import IPython.display\n",
    "\n",
    "logger = logging.getLogger('notebook')\n",
    "logger.setLevel(logging.INFO)\n"
   ]
  },
  {
   "cell_type": "code",
   "execution_count": 10,
   "metadata": {},
   "outputs": [],
   "source": [
    "# secret keys are stored here\n",
    "keys = json.load(open(os.path.expanduser(\"~/.twitter.json\")))['notebook-example']\n",
    "\n",
    "# you can generate keys here:\n",
    "# https://apps.twitter.com/"
   ]
  },
  {
   "cell_type": "code",
   "execution_count": 3,
   "metadata": {
    "collapsed": true
   },
   "outputs": [],
   "source": [
    "# now we can load the access keys\n",
    "auth = tweepy.OAuthHandler(keys['consumer_key'], keys['consumer_secret'])\n",
    "auth.set_access_token(keys['access_key'], keys['access_secret'])\n",
    "api = tweepy.API(auth)"
   ]
  },
  {
   "cell_type": "code",
   "execution_count": 4,
   "metadata": {},
   "outputs": [
    {
     "data": {
      "text/plain": [
       "'SiggyF'"
      ]
     },
     "execution_count": 4,
     "metadata": {},
     "output_type": "execute_result"
    }
   ],
   "source": [
    "# this should display your name\n",
    "user = api.me()\n",
    "user.name"
   ]
  },
  {
   "cell_type": "code",
   "execution_count": 5,
   "metadata": {},
   "outputs": [
    {
     "name": "stdout",
     "output_type": "stream",
     "text": [
      "2017-06-26 12:00:20 Vanaf 1 september zijn er wijzigingen bij de wijkmanagers https://t.co/CrR3cj10rm https://t.co/hES60uzyII\n",
      "2017-06-26 11:50:34 New quantile values for Rhine discharges up to 1/100000 per year at #eva2017 by Ferdinand Diermanse. https://t.co/lKMkZK8xmz\n"
     ]
    }
   ],
   "source": [
    "public_tweets = api.home_timeline(count=2)\n",
    "for tweet in public_tweets:\n",
    "    print(tweet.created_at, tweet.text)\n",
    "    "
   ]
  },
  {
   "cell_type": "code",
   "execution_count": 6,
   "metadata": {},
   "outputs": [
    {
     "data": {
      "text/html": [
       "<blockquote class=\"twitter-tweet\"><p lang=\"en\" dir=\"ltr\">New quantile values for Rhine discharges up to 1/100000 per year at <a href=\"https://twitter.com/hashtag/eva2017?src=hash\">#eva2017</a> by Ferdinand Diermanse. <a href=\"https://t.co/lKMkZK8xmz\">pic.twitter.com/lKMkZK8xmz</a></p>&mdash; Pieter van Gelder (@phajm) <a href=\"https://twitter.com/phajm/status/879305886715584513\">June 26, 2017</a></blockquote>\n",
       "<script async src=\"//platform.twitter.com/widgets.js\" charset=\"utf-8\"></script>"
      ],
      "text/plain": [
       "<IPython.core.display.HTML object>"
      ]
     },
     "execution_count": 6,
     "metadata": {},
     "output_type": "execute_result"
    }
   ],
   "source": [
    "# display a tweet inline\n",
    "IPython.display.HTML(api.get_oembed(id=tweet.id, hide_media=False)['html'])"
   ]
  },
  {
   "cell_type": "code",
   "execution_count": 7,
   "metadata": {},
   "outputs": [],
   "source": [
    "from tweepy import Stream\n",
    "from tweepy.streaming import StreamListener"
   ]
  },
  {
   "cell_type": "code",
   "execution_count": 8,
   "metadata": {},
   "outputs": [
    {
     "name": "stdout",
     "output_type": "stream",
     "text": [
      "RT @tumblrcunuz: ahahah efsane flood ya :D https://t.co/SqjBe4ifN8\n",
      "RT @tumblrcunuz: ahahah efsane flood ya :D https://t.co/SqjBe4ifN8\n",
      "RT @tumblrcunuz: ahahah efsane flood ya :D https://t.co/SqjBe4ifN8\n",
      "RT @OkKelly22: These are the men we are allowing to flood into Europe\n",
      "Tribal, violent, deadly➖and everyone too scared to object\n",
      "\n",
      "💀\n",
      "https://…\n",
      "RT @tumblrcunuz: ahahah efsane flood ya :D https://t.co/SqjBe4ifN8\n",
      "RT @tumblrcunuz: ahahah efsane flood ya :D https://t.co/SqjBe4ifN8\n",
      "Flood Map - locate your place and risk. https://t.co/ejKnCDCFK3\n",
      "RT @tumblrcunuz: ahahah efsane flood ya :D https://t.co/SqjBe4ifN8\n",
      "RT @CADroughtMonito: Parks are pork, but flood control saves lives. That's the tension just under the surface of the LA River https://t.co/…\n",
      "RT @tumblrcunuz: ahahah efsane flood ya :D https://t.co/SqjBe4ifN8\n",
      "RT @tumblrcunuz: ahahah efsane flood ya :D https://t.co/SqjBe4ifN8\n",
      "RT @tumblrcunuz: ahahah efsane flood ya :D https://t.co/SqjBe4ifN8\n"
     ]
    }
   ],
   "source": [
    "# now let's start listening for events\n",
    "class PrintListener(tweepy.StreamListener):\n",
    "    def on_status(self, status):\n",
    "        print(status.text)\n",
    "        \n",
    "print_listener = PrintListener()\n",
    "stream = Stream(api.auth, print_listener)\n",
    "stream.filter(track=['flood', 'overstroming'], async=True)"
   ]
  },
  {
   "cell_type": "code",
   "execution_count": 9,
   "metadata": {},
   "outputs": [
    {
     "name": "stdout",
     "output_type": "stream",
     "text": [
      "RT @tumblrcunuz: ahahah efsane flood ya :D https://t.co/SqjBe4ifN8\n"
     ]
    }
   ],
   "source": [
    "stream.disconnect()"
   ]
  }
 ],
 "metadata": {
  "kernelspec": {
   "display_name": "Python 3",
   "language": "python",
   "name": "python3"
  },
  "language_info": {
   "codemirror_mode": {
    "name": "ipython",
    "version": 3
   },
   "file_extension": ".py",
   "mimetype": "text/x-python",
   "name": "python",
   "nbconvert_exporter": "python",
   "pygments_lexer": "ipython3",
   "version": "3.5.3"
  }
 },
 "nbformat": 4,
 "nbformat_minor": 1
}
