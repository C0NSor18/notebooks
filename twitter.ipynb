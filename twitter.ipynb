{
 "cells": [
  {
   "cell_type": "code",
   "execution_count": 1,
   "metadata": {},
   "outputs": [],
   "source": [
    "import json\n",
    "import os.path\n",
    "import time\n",
    "import logging\n",
    "import datetime\n",
    "import itertools\n",
    "\n",
    "import requests\n",
    "import geojson\n",
    "import tweepy\n",
    "\n",
    "from tweepy import Stream\n",
    "from tweepy.streaming import StreamListener\n",
    "\n",
    "import IPython.display\n",
    "\n",
    "\n",
    "\n",
    "logger = logging.getLogger('notebook')\n",
    "logger.setLevel(logging.INFO)\n"
   ]
  },
  {
   "cell_type": "code",
   "execution_count": 2,
   "metadata": {},
   "outputs": [],
   "source": [
    "# secret keys are stored here\n",
    "keys = json.load(open(os.path.expanduser(\"~/.twitter.json\")))['notebook-example']\n",
    "\n",
    "# you can generate keys here:\n",
    "# https://apps.twitter.com/"
   ]
  },
  {
   "cell_type": "code",
   "execution_count": 3,
   "metadata": {},
   "outputs": [],
   "source": [
    "# now we can load the access keys\n",
    "auth = tweepy.OAuthHandler(keys['consumer_key'], keys['consumer_secret'])\n",
    "auth.set_access_token(keys['access_key'], keys['access_secret'])\n",
    "api = tweepy.API(auth)"
   ]
  },
  {
   "cell_type": "code",
   "execution_count": 4,
   "metadata": {},
   "outputs": [
    {
     "data": {
      "text/plain": [
       "'SiggyF'"
      ]
     },
     "execution_count": 4,
     "metadata": {},
     "output_type": "execute_result"
    }
   ],
   "source": [
    "# this should display your name\n",
    "user = api.me()\n",
    "user.name"
   ]
  },
  {
   "cell_type": "code",
   "execution_count": 5,
   "metadata": {},
   "outputs": [
    {
     "name": "stdout",
     "output_type": "stream",
     "text": [
      "2017-11-30 07:31:17 DONDERDAG LIVE: Vanaf 10.15 uur Kamerdebat begroting @ministerieJenV met beantwoording bewindslieden… https://t.co/zhVCxJWNAW\n",
      "2017-11-30 02:01:20 RT @chrisvfritz: PSA: The just-released @stylelint ^8.3.0 now supports &lt;style&gt; tags in .vue files out of the box, even with lang detection…\n"
     ]
    }
   ],
   "source": [
    "public_tweets = api.home_timeline(count=2)\n",
    "for tweet in public_tweets:\n",
    "    print(tweet.created_at, tweet.text)\n",
    "    "
   ]
  },
  {
   "cell_type": "code",
   "execution_count": 6,
   "metadata": {},
   "outputs": [
    {
     "data": {
      "text/html": [
       "<blockquote class=\"twitter-tweet\"><p lang=\"en\" dir=\"ltr\">PSA: The just-released <a href=\"https://twitter.com/stylelint?ref_src=twsrc%5Etfw\">@stylelint</a> ^8.3.0 now supports &lt;style&gt; tags in .vue files out of the box, even with lang detection and --fix. Huge thanks to <a href=\"https://twitter.com/gucong3000?ref_src=twsrc%5Etfw\">@gucong3000</a> and the stylelint team for making it happen!</p>&mdash; Chris Fritz (@chrisvfritz) <a href=\"https://twitter.com/chrisvfritz/status/935697581333770240?ref_src=twsrc%5Etfw\">November 29, 2017</a></blockquote>\n",
       "<script async src=\"https://platform.twitter.com/widgets.js\" charset=\"utf-8\"></script>\n"
      ],
      "text/plain": [
       "<IPython.core.display.HTML object>"
      ]
     },
     "execution_count": 6,
     "metadata": {},
     "output_type": "execute_result"
    }
   ],
   "source": [
    "# display a tweet inline\n",
    "IPython.display.HTML(api.get_oembed(id=tweet.id, hide_media=False)['html'])"
   ]
  },
  {
   "cell_type": "code",
   "execution_count": 7,
   "metadata": {},
   "outputs": [
    {
     "name": "stdout",
     "output_type": "stream",
     "text": [
      "2017-11-22 15:08:33 RT @mikihirano: 本日の夕暮れ。#シドニー #オーストラリア #SnapSydney #CoastSnapNarra https://t.co/6DlvCiGSj1\n",
      "2017-11-22 14:52:50 RT @mikihirano: #Narrabeen #beach #CoastSnapNarra #SnapSydney https://t.co/3o8f91HB72\n",
      "2017-11-22 14:23:58 RT @mikihirano: #Narrabeen #beach #CoastSnapNarra #SnapSydney https://t.co/3o8f91HB72\n",
      "2017-11-22 13:08:47 RT @mikihirano: #Narrabeen #beach #CoastSnapNarra #SnapSydney https://t.co/3o8f91HB72\n",
      "2017-11-22 12:52:45 RT @mikihirano: 本日の夕暮れ。#シドニー #オーストラリア #SnapSydney #CoastSnapNarra https://t.co/6DlvCiGSj1\n",
      "2017-11-22 11:50:49 本日の夕暮れ。#シドニー #オーストラリア #SnapSydney #CoastSnapNarra https://t.co/6DlvCiGSj1\n",
      "2017-11-22 10:44:53 RT @mikihirano: #Narrabeen #beach #CoastSnapNarra #SnapSydney https://t.co/3o8f91HB72\n",
      "2017-11-22 07:29:43 RT @mikihirano: #Narrabeen #beach #CoastSnapNarra #SnapSydney https://t.co/3o8f91HB72\n",
      "2017-11-22 07:01:10 #Narrabeen #beach #CoastSnapNarra #SnapSydney https://t.co/3o8f91HB72\n"
     ]
    }
   ],
   "source": [
    "counter = itertools.count()\n",
    "tweets = api.search('#CoastSnapNarra', include_entities=True, count=100)\n",
    "for tweet in tweets:\n",
    "    print(tweet.created_at, tweet.text)\n",
    "    \n",
    "    for entity in tweet.entities['media']:\n",
    "        resp = requests.get(entity['media_url'])\n",
    "        # download the image\n",
    "        with open('img-%06d.jpg' % next(counter), 'wb') as f:\n",
    "            f.write(resp.content)\n",
    "            \n",
    "    "
   ]
  },
  {
   "cell_type": "code",
   "execution_count": 12,
   "metadata": {},
   "outputs": [
    {
     "name": "stdout",
     "output_type": "stream",
     "text": [
      "Pull out or get flooded 🤔 Ima flood ya baby girl 🍆💦💦🌊\n",
      "Aerial View Shows Colombian Town Flooded With Mud. Credit – Fuerza Aérea Colombiana via Storyful - https://t.co/gpRplXM7PW via @AUNewsToday\n"
     ]
    }
   ],
   "source": [
    "# now let's start listening for events\n",
    "class PrintListener(tweepy.StreamListener):\n",
    "    def on_status(self, status):\n",
    "        print(status.text)\n",
    "        \n",
    "print_listener = PrintListener()\n",
    "stream = Stream(api.auth, print_listener)\n",
    "stream.filter(track=['flooded'], async=True)"
   ]
  },
  {
   "cell_type": "code",
   "execution_count": 13,
   "metadata": {},
   "outputs": [],
   "source": [
    "stream.disconnect()"
   ]
  },
  {
   "cell_type": "code",
   "execution_count": null,
   "metadata": {},
   "outputs": [],
   "source": [
    "api."
   ]
  }
 ],
 "metadata": {
  "kernelspec": {
   "display_name": "Python 3",
   "language": "python",
   "name": "python3"
  },
  "language_info": {
   "codemirror_mode": {
    "name": "ipython",
    "version": 3
   },
   "file_extension": ".py",
   "mimetype": "text/x-python",
   "name": "python",
   "nbconvert_exporter": "python",
   "pygments_lexer": "ipython3",
   "version": "3.6.3"
  }
 },
 "nbformat": 4,
 "nbformat_minor": 1
}
